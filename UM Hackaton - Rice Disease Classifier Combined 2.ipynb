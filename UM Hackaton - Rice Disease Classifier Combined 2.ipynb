{
 "cells": [
  {
   "cell_type": "markdown",
   "id": "34cc6ac0",
   "metadata": {},
   "source": [
    "<br>\n",
    "\n",
    "---\n",
    "\n",
    "## 1.0 - Importing Modules\n",
    "\n",
    "---\n",
    "<br>"
   ]
  },
  {
   "cell_type": "code",
   "execution_count": 1,
   "id": "b056ba9a",
   "metadata": {},
   "outputs": [
    {
     "name": "stdout",
     "output_type": "stream",
     "text": [
      "Importing tensorflow\n"
     ]
    }
   ],
   "source": [
    "import matplotlib.pyplot as plt\n",
    "import numpy as np\n",
    "import os\n",
    "import tensorflow as tf\n",
    "print(\"Importing tensorflow\")\n",
    "\n",
    "from tensorflow import keras\n",
    "from tensorflow.keras import layers\n",
    "from tensorflow.keras.models import Sequential"
   ]
  },
  {
   "cell_type": "markdown",
   "id": "f446a57e",
   "metadata": {},
   "source": [
    "<br>\n",
    "\n",
    "---\n",
    "\n",
    "## 2.0 - Loading Models\n",
    "\n",
    "---\n",
    "<br>"
   ]
  },
  {
   "cell_type": "markdown",
   "id": "f46413bd",
   "metadata": {},
   "source": [
    "### Load Model (Not Fine Tuned)"
   ]
  },
  {
   "cell_type": "code",
   "execution_count": 2,
   "id": "1b08d77d",
   "metadata": {},
   "outputs": [],
   "source": [
    "model = keras.models.load_model('trained_models/um_combined_model.h5')"
   ]
  },
  {
   "cell_type": "markdown",
   "id": "83795b0f",
   "metadata": {},
   "source": [
    "### Load Model (Fine Tuned)"
   ]
  },
  {
   "cell_type": "code",
   "execution_count": 2,
   "id": "1b6d3df6",
   "metadata": {},
   "outputs": [],
   "source": [
    "model = keras.models.load_model('trained_models/um_combined_tuned_model.h5')"
   ]
  },
  {
   "cell_type": "code",
   "execution_count": 3,
   "id": "16606daa",
   "metadata": {},
   "outputs": [
    {
     "name": "stdout",
     "output_type": "stream",
     "text": [
      "Model: \"sequential\"\n",
      "_________________________________________________________________\n",
      "Layer (type)                 Output Shape              Param #   \n",
      "=================================================================\n",
      "mobilenetv2_1.00_224 (Functi (None, 10, 10, 1280)      2257984   \n",
      "_________________________________________________________________\n",
      "global_average_pooling2d (Gl (None, 1280)              0         \n",
      "_________________________________________________________________\n",
      "dropout (Dropout)            (None, 1280)              0         \n",
      "_________________________________________________________________\n",
      "dense (Dense)                (None, 256)               327936    \n",
      "_________________________________________________________________\n",
      "dense_1 (Dense)              (None, 4)                 1028      \n",
      "=================================================================\n",
      "Total params: 2,586,948\n",
      "Trainable params: 2,190,404\n",
      "Non-trainable params: 396,544\n",
      "_________________________________________________________________\n"
     ]
    }
   ],
   "source": [
    "model.summary()"
   ]
  },
  {
   "cell_type": "markdown",
   "id": "9000cee4",
   "metadata": {},
   "source": [
    "<br>\n",
    "\n",
    "---\n",
    "\n",
    "## 3.0 - Prediction\n",
    "\n",
    "---\n",
    "<br>\n",
    "\n",
    "The probabilities are __[BrownSpot, Healthy, Hispa, LeafBlast]__ respectively"
   ]
  },
  {
   "cell_type": "code",
   "execution_count": 11,
   "id": "bb99b360",
   "metadata": {},
   "outputs": [],
   "source": [
    "# Import basic GUI functionality\n",
    "from ipywidgets import Button\n",
    "from tkinter import Tk, filedialog\n",
    "from IPython.display import clear_output, display"
   ]
  },
  {
   "cell_type": "code",
   "execution_count": 12,
   "id": "8fa47ef2",
   "metadata": {},
   "outputs": [],
   "source": [
    "def select_files(b):\n",
    "    clear_output()\n",
    "    \n",
    "    root = Tk()\n",
    "    root.withdraw() # Hide the main window.\n",
    "    root.call('wm', 'attributes', '.', '-topmost', True) # Raise the root to the top of all windows.\n",
    "    b.files = filedialog.askopenfilename(multiple=True) # List of selected files will be set button's file attribute.\n",
    "\n",
    "    print(f'Loading the image: {b.files[0]}')\n",
    "    \n",
    "    img = keras.preprocessing.image.load_img(\n",
    "        b.files[0], target_size=(300,300)\n",
    "    )\n",
    "    \n",
    "    plt.figure()\n",
    "    plt.imshow(img)\n",
    "    \n",
    "    img_array = keras.preprocessing.image.img_to_array(img)\n",
    "    # Map to [-1, 1] range\n",
    "    img_array = (img_array / 127.5) - 1\n",
    "    img_array = tf.expand_dims(img_array, 0) # Create a batch\n",
    "    \n",
    "    # [BrownSpot, Healthy, Hispa, LeafBlast]\n",
    "    predicted_prob = model.predict(img_array)\n",
    "    print(predicted_prob * 100)"
   ]
  },
  {
   "cell_type": "code",
   "execution_count": 20,
   "id": "bf62b693",
   "metadata": {
    "scrolled": true
   },
   "outputs": [
    {
     "ename": "IndexError",
     "evalue": "string index out of range",
     "output_type": "error",
     "traceback": [
      "\u001b[1;31m---------------------------------------------------------------------------\u001b[0m",
      "\u001b[1;31mIndexError\u001b[0m                                Traceback (most recent call last)",
      "\u001b[1;32m~\\AppData\\Local\\Temp/ipykernel_1152/1388081624.py\u001b[0m in \u001b[0;36mselect_files\u001b[1;34m(b)\u001b[0m\n\u001b[0;32m      7\u001b[0m     \u001b[0mb\u001b[0m\u001b[1;33m.\u001b[0m\u001b[0mfiles\u001b[0m \u001b[1;33m=\u001b[0m \u001b[0mfiledialog\u001b[0m\u001b[1;33m.\u001b[0m\u001b[0maskopenfilename\u001b[0m\u001b[1;33m(\u001b[0m\u001b[0mmultiple\u001b[0m\u001b[1;33m=\u001b[0m\u001b[1;32mTrue\u001b[0m\u001b[1;33m)\u001b[0m \u001b[1;31m# List of selected files will be set button's file attribute.\u001b[0m\u001b[1;33m\u001b[0m\u001b[1;33m\u001b[0m\u001b[0m\n\u001b[0;32m      8\u001b[0m \u001b[1;33m\u001b[0m\u001b[0m\n\u001b[1;32m----> 9\u001b[1;33m     \u001b[0mprint\u001b[0m\u001b[1;33m(\u001b[0m\u001b[1;34mf'Loading the image: {b.files[0]}'\u001b[0m\u001b[1;33m)\u001b[0m\u001b[1;33m\u001b[0m\u001b[1;33m\u001b[0m\u001b[0m\n\u001b[0m\u001b[0;32m     10\u001b[0m \u001b[1;33m\u001b[0m\u001b[0m\n\u001b[0;32m     11\u001b[0m     img = keras.preprocessing.image.load_img(\n",
      "\u001b[1;31mIndexError\u001b[0m: string index out of range"
     ]
    }
   ],
   "source": [
    "# Register the event listener and display the button \n",
    "fileselect = Button(description=\"File select\")\n",
    "fileselect.on_click(select_files)\n",
    "\n",
    "#[BrownSpot, Healthy, Hispa, LeafBlast]\n",
    "display(fileselect)"
   ]
  },
  {
   "cell_type": "markdown",
   "id": "60cf93ab",
   "metadata": {},
   "source": [
    "<br>\n",
    "\n",
    "---\n",
    "\n",
    "## 4.0 - Evaluate Test Dataset\n",
    "\n",
    "---\n",
    "<br>"
   ]
  },
  {
   "cell_type": "code",
   "execution_count": 8,
   "id": "ce7f28d6",
   "metadata": {},
   "outputs": [],
   "source": [
    "IMG_SIZE = (300, 300)"
   ]
  },
  {
   "cell_type": "code",
   "execution_count": 9,
   "id": "cfbedce9",
   "metadata": {},
   "outputs": [
    {
     "name": "stdout",
     "output_type": "stream",
     "text": [
      "Found 492 files belonging to 4 classes.\n"
     ]
    }
   ],
   "source": [
    "# Validation Dataset\n",
    "VALIDATE_DIR = 'datasets/RiceDiseaseDataset/validation/Combined'\n",
    "\n",
    "validate_ds = tf.keras.preprocessing.image_dataset_from_directory(\n",
    "    VALIDATE_DIR,\n",
    "    seed=123,\n",
    "    image_size=IMG_SIZE,\n",
    "    label_mode='categorical'\n",
    ")\n",
    "\n",
    "# Scale to [-1, 1]\n",
    "validate_ds = validate_ds.map(lambda x,y: (keras.layers.experimental.preprocessing.Rescaling(1./127.5, offset=-1)(x), y) )"
   ]
  },
  {
   "cell_type": "code",
   "execution_count": 10,
   "id": "e7ab335b",
   "metadata": {
    "scrolled": true
   },
   "outputs": [
    {
     "name": "stdout",
     "output_type": "stream",
     "text": [
      "16/16 [==============================] - 40s 508ms/step - loss: 1.3055 - accuracy: 0.6768\n"
     ]
    },
    {
     "data": {
      "text/plain": [
       "[1.305471420288086, 0.6768292784690857]"
      ]
     },
     "execution_count": 10,
     "metadata": {},
     "output_type": "execute_result"
    }
   ],
   "source": [
    "# Validate the model\n",
    "model.evaluate(validate_ds)"
   ]
  },
  {
   "cell_type": "markdown",
   "id": "b06f4b57",
   "metadata": {},
   "source": [
    "<br>\n",
    "\n",
    "---\n",
    "\n",
    "## 5.0 - Convert to Tensorflow.js Compatible\n",
    "\n",
    "---\n",
    "<br>"
   ]
  },
  {
   "cell_type": "code",
   "execution_count": 10,
   "id": "4bce7f53",
   "metadata": {},
   "outputs": [
    {
     "name": "stdout",
     "output_type": "stream",
     "text": [
      "Microsoft Windows [Version 10.0.19042.1110]\r\n",
      "(c) Microsoft Corporation. All rights reserved.\r\n",
      "\r\n",
      "(venv) D:\\My Desktop\\Programming\\Projects\\MachineLearning>pip install tensorflowjs\n",
      "Requirement already satisfied: tensorflowjs in d:\\my desktop\\programming\\projects\\machinelearning\\venv\\lib\\site-packages (3.8.0)\r\n",
      "Requirement already satisfied: tensorflow-hub<0.13,>=0.7.0 in d:\\my desktop\\programming\\projects\\machinelearning\\venv\\lib\\site-packages (from tensorflowjs) (0.12.0)\r\n",
      "Requirement already satisfied: six<2,>=1.12.0 in d:\\my desktop\\programming\\projects\\machinelearning\\venv\\lib\\site-packages (from tensorflowjs) (1.15.0)\r\n",
      "Requirement already satisfied: tensorflow<3,>=2.1.0 in d:\\my desktop\\programming\\projects\\machinelearning\\venv\\lib\\site-packages (from tensorflowjs) (2.5.0)\r\n",
      "Requirement already satisfied: tensorflow-estimator<2.6.0,>=2.5.0rc0 in d:\\my desktop\\programming\\projects\\machinelearning\\venv\\lib\\site-packages (from tensorflow<3,>=2.1.0->tensorflowjs) (2.5.0)\r\n",
      "Requirement already satisfied: keras-preprocessing~=1.1.2 in d:\\my desktop\\programming\\projects\\machinelearning\\venv\\lib\\site-packages (from tensorflow<3,>=2.1.0->tensorflowjs) (1.1.2)\r\n",
      "Requirement already satisfied: keras-nightly~=2.5.0.dev in d:\\my desktop\\programming\\projects\\machinelearning\\venv\\lib\\site-packages (from tensorflow<3,>=2.1.0->tensorflowjs) (2.5.0.dev2021032900)\r\n",
      "Requirement already satisfied: gast==0.4.0 in d:\\my desktop\\programming\\projects\\machinelearning\\venv\\lib\\site-packages (from tensorflow<3,>=2.1.0->tensorflowjs) (0.4.0)\r\n",
      "Requirement already satisfied: protobuf>=3.9.2 in d:\\my desktop\\programming\\projects\\machinelearning\\venv\\lib\\site-packages (from tensorflow<3,>=2.1.0->tensorflowjs) (3.17.3)\r\n",
      "Requirement already satisfied: h5py~=3.1.0 in d:\\my desktop\\programming\\projects\\machinelearning\\venv\\lib\\site-packages (from tensorflow<3,>=2.1.0->tensorflowjs) (3.1.0)\r\n",
      "Requirement already satisfied: flatbuffers~=1.12.0 in d:\\my desktop\\programming\\projects\\machinelearning\\venv\\lib\\site-packages (from tensorflow<3,>=2.1.0->tensorflowjs) (1.12)\r\n",
      "Requirement already satisfied: google-pasta~=0.2 in d:\\my desktop\\programming\\projects\\machinelearning\\venv\\lib\\site-packages (from tensorflow<3,>=2.1.0->tensorflowjs) (0.2.0)\r\n",
      "Requirement already satisfied: wrapt~=1.12.1 in d:\\my desktop\\programming\\projects\\machinelearning\\venv\\lib\\site-packages (from tensorflow<3,>=2.1.0->tensorflowjs) (1.12.1)\r\n",
      "Requirement already satisfied: tensorboard~=2.5 in d:\\my desktop\\programming\\projects\\machinelearning\\venv\\lib\\site-packages (from tensorflow<3,>=2.1.0->tensorflowjs) (2.5.0)\r\n",
      "Requirement already satisfied: absl-py~=0.10 in d:\\my desktop\\programming\\projects\\machinelearning\\venv\\lib\\site-packages (from tensorflow<3,>=2.1.0->tensorflowjs) (0.12.0)\r\n",
      "Requirement already satisfied: opt-einsum~=3.3.0 in d:\\my desktop\\programming\\projects\\machinelearning\\venv\\lib\\site-packages (from tensorflow<3,>=2.1.0->tensorflowjs) (3.3.0)\r\n",
      "Requirement already satisfied: numpy~=1.19.2 in d:\\my desktop\\programming\\projects\\machinelearning\\venv\\lib\\site-packages (from tensorflow<3,>=2.1.0->tensorflowjs) (1.19.5)\r\n",
      "Requirement already satisfied: wheel~=0.35 in d:\\my desktop\\programming\\projects\\machinelearning\\venv\\lib\\site-packages (from tensorflow<3,>=2.1.0->tensorflowjs) (0.36.2)\r\n",
      "Requirement already satisfied: typing-extensions~=3.7.4 in d:\\my desktop\\programming\\projects\\machinelearning\\venv\\lib\\site-packages (from tensorflow<3,>=2.1.0->tensorflowjs) (3.7.4.3)\r\n",
      "Requirement already satisfied: grpcio~=1.34.0 in d:\\my desktop\\programming\\projects\\machinelearning\\venv\\lib\\site-packages (from tensorflow<3,>=2.1.0->tensorflowjs) (1.34.1)\r\n",
      "Requirement already satisfied: termcolor~=1.1.0 in d:\\my desktop\\programming\\projects\\machinelearning\\venv\\lib\\site-packages (from tensorflow<3,>=2.1.0->tensorflowjs) (1.1.0)\r\n",
      "Requirement already satisfied: astunparse~=1.6.3 in d:\\my desktop\\programming\\projects\\machinelearning\\venv\\lib\\site-packages (from tensorflow<3,>=2.1.0->tensorflowjs) (1.6.3)\r\n",
      "Requirement already satisfied: tensorboard-data-server<0.7.0,>=0.6.0 in d:\\my desktop\\programming\\projects\\machinelearning\\venv\\lib\\site-packages (from tensorboard~=2.5->tensorflow<3,>=2.1.0->tensorflowjs) (0.6.1)\r\n",
      "Requirement already satisfied: setuptools>=41.0.0 in d:\\my desktop\\programming\\projects\\machinelearning\\venv\\lib\\site-packages (from tensorboard~=2.5->tensorflow<3,>=2.1.0->tensorflowjs) (57.4.0)\r\n",
      "Requirement already satisfied: werkzeug>=0.11.15 in d:\\my desktop\\programming\\projects\\machinelearning\\venv\\lib\\site-packages (from tensorboard~=2.5->tensorflow<3,>=2.1.0->tensorflowjs) (2.0.1)\r\n",
      "Requirement already satisfied: google-auth-oauthlib<0.5,>=0.4.1 in d:\\my desktop\\programming\\projects\\machinelearning\\venv\\lib\\site-packages (from tensorboard~=2.5->tensorflow<3,>=2.1.0->tensorflowjs) (0.4.5)\r\n",
      "Requirement already satisfied: markdown>=2.6.8 in d:\\my desktop\\programming\\projects\\machinelearning\\venv\\lib\\site-packages (from tensorboard~=2.5->tensorflow<3,>=2.1.0->tensorflowjs) (3.3.4)\r\n",
      "Requirement already satisfied: google-auth<2,>=1.6.3 in d:\\my desktop\\programming\\projects\\machinelearning\\venv\\lib\\site-packages (from tensorboard~=2.5->tensorflow<3,>=2.1.0->tensorflowjs) (1.34.0)\r\n",
      "Requirement already satisfied: requests<3,>=2.21.0 in d:\\my desktop\\programming\\projects\\machinelearning\\venv\\lib\\site-packages (from tensorboard~=2.5->tensorflow<3,>=2.1.0->tensorflowjs) (2.26.0)\r\n",
      "Requirement already satisfied: tensorboard-plugin-wit>=1.6.0 in d:\\my desktop\\programming\\projects\\machinelearning\\venv\\lib\\site-packages (from tensorboard~=2.5->tensorflow<3,>=2.1.0->tensorflowjs) (1.8.0)\r\n",
      "Requirement already satisfied: cachetools<5.0,>=2.0.0 in d:\\my desktop\\programming\\projects\\machinelearning\\venv\\lib\\site-packages (from google-auth<2,>=1.6.3->tensorboard~=2.5->tensorflow<3,>=2.1.0->tensorflowjs) (4.2.2)\r\n",
      "Requirement already satisfied: pyasn1-modules>=0.2.1 in d:\\my desktop\\programming\\projects\\machinelearning\\venv\\lib\\site-packages (from google-auth<2,>=1.6.3->tensorboard~=2.5->tensorflow<3,>=2.1.0->tensorflowjs) (0.2.8)\r\n",
      "Requirement already satisfied: rsa<5,>=3.1.4 in d:\\my desktop\\programming\\projects\\machinelearning\\venv\\lib\\site-packages (from google-auth<2,>=1.6.3->tensorboard~=2.5->tensorflow<3,>=2.1.0->tensorflowjs) (4.7.2)\r\n",
      "Requirement already satisfied: requests-oauthlib>=0.7.0 in d:\\my desktop\\programming\\projects\\machinelearning\\venv\\lib\\site-packages (from google-auth-oauthlib<0.5,>=0.4.1->tensorboard~=2.5->tensorflow<3,>=2.1.0->tensorflowjs) (1.3.0)\r\n",
      "Requirement already satisfied: pyasn1<0.5.0,>=0.4.6 in d:\\my desktop\\programming\\projects\\machinelearning\\venv\\lib\\site-packages (from pyasn1-modules>=0.2.1->google-auth<2,>=1.6.3->tensorboard~=2.5->tensorflow<3,>=2.1.0->tensorflowjs) (0.4.8)\r\n",
      "Requirement already satisfied: certifi>=2017.4.17 in d:\\my desktop\\programming\\projects\\machinelearning\\venv\\lib\\site-packages (from requests<3,>=2.21.0->tensorboard~=2.5->tensorflow<3,>=2.1.0->tensorflowjs) (2021.5.30)\r\n",
      "Requirement already satisfied: urllib3<1.27,>=1.21.1 in d:\\my desktop\\programming\\projects\\machinelearning\\venv\\lib\\site-packages (from requests<3,>=2.21.0->tensorboard~=2.5->tensorflow<3,>=2.1.0->tensorflowjs) (1.26.6)\r\n",
      "Requirement already satisfied: charset-normalizer~=2.0.0 in d:\\my desktop\\programming\\projects\\machinelearning\\venv\\lib\\site-packages (from requests<3,>=2.21.0->tensorboard~=2.5->tensorflow<3,>=2.1.0->tensorflowjs) (2.0.4)\r\n",
      "Requirement already satisfied: idna<4,>=2.5 in d:\\my desktop\\programming\\projects\\machinelearning\\venv\\lib\\site-packages (from requests<3,>=2.21.0->tensorboard~=2.5->tensorflow<3,>=2.1.0->tensorflowjs) (3.2)\r\n",
      "Requirement already satisfied: oauthlib>=3.0.0 in d:\\my desktop\\programming\\projects\\machinelearning\\venv\\lib\\site-packages (from requests-oauthlib>=0.7.0->google-auth-oauthlib<0.5,>=0.4.1->tensorboard~=2.5->tensorflow<3,>=2.1.0->tensorflowjs) (3.1.1)\r\n",
      "\r\n",
      "(venv) D:\\My Desktop\\Programming\\Projects\\MachineLearning>"
     ]
    }
   ],
   "source": [
    "!pip install tensorflowjs"
   ]
  },
  {
   "cell_type": "code",
   "execution_count": 4,
   "id": "bed726e6",
   "metadata": {},
   "outputs": [],
   "source": [
    "import tensorflowjs as tfjs"
   ]
  },
  {
   "cell_type": "code",
   "execution_count": 5,
   "id": "99a391c5",
   "metadata": {},
   "outputs": [
    {
     "name": "stderr",
     "output_type": "stream",
     "text": [
      "2021-08-06 03:59:46.479073: I tensorflow/stream_executor/platform/default/dso_loader.cc:53] Successfully opened dynamic library cudart64_110.dll\n"
     ]
    }
   ],
   "source": [
    "!tensorflowjs_converter --input_format=keras --output_format=tfjs_layers_model trained_models/um_combined_model.h5 trained_models/TensorflowJS/um_combined_model "
   ]
  },
  {
   "cell_type": "code",
   "execution_count": null,
   "id": "4eea9abb",
   "metadata": {},
   "outputs": [],
   "source": []
  }
 ],
 "metadata": {
  "kernelspec": {
   "display_name": "Python 3 (ipykernel)",
   "language": "python",
   "name": "python3"
  },
  "language_info": {
   "codemirror_mode": {
    "name": "ipython",
    "version": 3
   },
   "file_extension": ".py",
   "mimetype": "text/x-python",
   "name": "python",
   "nbconvert_exporter": "python",
   "pygments_lexer": "ipython3",
   "version": "3.9.6"
  }
 },
 "nbformat": 4,
 "nbformat_minor": 5
}
