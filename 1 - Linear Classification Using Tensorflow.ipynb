{
 "cells": [
  {
   "cell_type": "markdown",
   "id": "64fe4b30",
   "metadata": {},
   "source": [
    "<br>\n",
    "\n",
    "---\n",
    "\n",
    "# Linear Classification using Tensorflow\n",
    "\n",
    "---\n",
    "<br>"
   ]
  },
  {
   "cell_type": "markdown",
   "id": "b200da55",
   "metadata": {},
   "source": [
    "<br>\n",
    "\n",
    "---\n",
    "\n",
    "## 1.0 - Import Modules\n",
    "\n",
    "---\n",
    "<br>"
   ]
  },
  {
   "cell_type": "code",
   "execution_count": 5,
   "id": "ee25e87d",
   "metadata": {},
   "outputs": [],
   "source": [
    "# If any of the modules are not working, simply run pip install on them\n",
    "\n",
    "from __future__ import absolute_import, division, print_function, unicode_literals\n",
    "\n",
    "# Supporting modules\n",
    "import numpy as np\n",
    "import pandas as pd\n",
    "import matplotlib.pyplot as plt\n",
    "from IPython.display import clear_output\n",
    "from six.moves import urllib\n",
    "\n",
    "# Tensorflow compatibility\n",
    "import tensorflow.compat.v2.feature_column as fc\n",
    "\n",
    "# Tensorflow itself\n",
    "import tensorflow as tf"
   ]
  },
  {
   "cell_type": "markdown",
   "id": "c09ef23c",
   "metadata": {},
   "source": [
    "<br>\n",
    "\n",
    "---\n",
    "\n",
    "## 2.0 - Loading Dataset\n",
    "\n",
    "---\n",
    "<br>"
   ]
  },
  {
   "cell_type": "code",
   "execution_count": 6,
   "id": "a939d3d1",
   "metadata": {},
   "outputs": [],
   "source": [
    "# Data is loaded from online source. Read into pandas Dataframe\n",
    "data_train = pd.read_csv('https://storage.googleapis.com/tf-datasets/titanic/train.csv')   # Training Data\n",
    "data_test = pd.read_csv('https://storage.googleapis.com/tf-datasets/titanic/eval.csv')     # Testing Data\n",
    "\n",
    "y_train = data_train.pop('survived')      # Training Label - Whether passenger survived?\n",
    "y_test = data_test.pop('survived')        # Test Label"
   ]
  },
  {
   "cell_type": "code",
   "execution_count": 8,
   "id": "68fa5670",
   "metadata": {},
   "outputs": [
    {
     "name": "stdout",
     "output_type": "stream",
     "text": [
      "(627, 9)\n",
      "(264, 9)\n"
     ]
    }
   ],
   "source": [
    "# Look at the shape of our data\n",
    "print(data_train.shape)              # 627 rows with 9 columns\n",
    "print(data_test.shape)               # 264 rows with 9 columns"
   ]
  },
  {
   "cell_type": "code",
   "execution_count": 9,
   "id": "50a86dfb",
   "metadata": {
    "scrolled": true
   },
   "outputs": [
    {
     "data": {
      "text/html": [
       "<div>\n",
       "<style scoped>\n",
       "    .dataframe tbody tr th:only-of-type {\n",
       "        vertical-align: middle;\n",
       "    }\n",
       "\n",
       "    .dataframe tbody tr th {\n",
       "        vertical-align: top;\n",
       "    }\n",
       "\n",
       "    .dataframe thead th {\n",
       "        text-align: right;\n",
       "    }\n",
       "</style>\n",
       "<table border=\"1\" class=\"dataframe\">\n",
       "  <thead>\n",
       "    <tr style=\"text-align: right;\">\n",
       "      <th></th>\n",
       "      <th>sex</th>\n",
       "      <th>age</th>\n",
       "      <th>n_siblings_spouses</th>\n",
       "      <th>parch</th>\n",
       "      <th>fare</th>\n",
       "      <th>class</th>\n",
       "      <th>deck</th>\n",
       "      <th>embark_town</th>\n",
       "      <th>alone</th>\n",
       "    </tr>\n",
       "  </thead>\n",
       "  <tbody>\n",
       "    <tr>\n",
       "      <th>0</th>\n",
       "      <td>male</td>\n",
       "      <td>22.0</td>\n",
       "      <td>1</td>\n",
       "      <td>0</td>\n",
       "      <td>7.2500</td>\n",
       "      <td>Third</td>\n",
       "      <td>unknown</td>\n",
       "      <td>Southampton</td>\n",
       "      <td>n</td>\n",
       "    </tr>\n",
       "    <tr>\n",
       "      <th>1</th>\n",
       "      <td>female</td>\n",
       "      <td>38.0</td>\n",
       "      <td>1</td>\n",
       "      <td>0</td>\n",
       "      <td>71.2833</td>\n",
       "      <td>First</td>\n",
       "      <td>C</td>\n",
       "      <td>Cherbourg</td>\n",
       "      <td>n</td>\n",
       "    </tr>\n",
       "    <tr>\n",
       "      <th>2</th>\n",
       "      <td>female</td>\n",
       "      <td>26.0</td>\n",
       "      <td>0</td>\n",
       "      <td>0</td>\n",
       "      <td>7.9250</td>\n",
       "      <td>Third</td>\n",
       "      <td>unknown</td>\n",
       "      <td>Southampton</td>\n",
       "      <td>y</td>\n",
       "    </tr>\n",
       "    <tr>\n",
       "      <th>3</th>\n",
       "      <td>female</td>\n",
       "      <td>35.0</td>\n",
       "      <td>1</td>\n",
       "      <td>0</td>\n",
       "      <td>53.1000</td>\n",
       "      <td>First</td>\n",
       "      <td>C</td>\n",
       "      <td>Southampton</td>\n",
       "      <td>n</td>\n",
       "    </tr>\n",
       "    <tr>\n",
       "      <th>4</th>\n",
       "      <td>male</td>\n",
       "      <td>28.0</td>\n",
       "      <td>0</td>\n",
       "      <td>0</td>\n",
       "      <td>8.4583</td>\n",
       "      <td>Third</td>\n",
       "      <td>unknown</td>\n",
       "      <td>Queenstown</td>\n",
       "      <td>y</td>\n",
       "    </tr>\n",
       "  </tbody>\n",
       "</table>\n",
       "</div>"
      ],
      "text/plain": [
       "      sex   age  n_siblings_spouses  parch     fare  class     deck  \\\n",
       "0    male  22.0                   1      0   7.2500  Third  unknown   \n",
       "1  female  38.0                   1      0  71.2833  First        C   \n",
       "2  female  26.0                   0      0   7.9250  Third  unknown   \n",
       "3  female  35.0                   1      0  53.1000  First        C   \n",
       "4    male  28.0                   0      0   8.4583  Third  unknown   \n",
       "\n",
       "   embark_town alone  \n",
       "0  Southampton     n  \n",
       "1    Cherbourg     n  \n",
       "2  Southampton     y  \n",
       "3  Southampton     n  \n",
       "4   Queenstown     y  "
      ]
     },
     "execution_count": 9,
     "metadata": {},
     "output_type": "execute_result"
    }
   ],
   "source": [
    "# First 5 rows of our data\n",
    "data_train.head()"
   ]
  },
  {
   "cell_type": "code",
   "execution_count": 10,
   "id": "239587cf",
   "metadata": {},
   "outputs": [
    {
     "name": "stdout",
     "output_type": "stream",
     "text": [
      "<class 'pandas.core.frame.DataFrame'>\n",
      "RangeIndex: 627 entries, 0 to 626\n",
      "Data columns (total 9 columns):\n",
      " #   Column              Non-Null Count  Dtype  \n",
      "---  ------              --------------  -----  \n",
      " 0   sex                 627 non-null    object \n",
      " 1   age                 627 non-null    float64\n",
      " 2   n_siblings_spouses  627 non-null    int64  \n",
      " 3   parch               627 non-null    int64  \n",
      " 4   fare                627 non-null    float64\n",
      " 5   class               627 non-null    object \n",
      " 6   deck                627 non-null    object \n",
      " 7   embark_town         627 non-null    object \n",
      " 8   alone               627 non-null    object \n",
      "dtypes: float64(2), int64(2), object(5)\n",
      "memory usage: 44.2+ KB\n"
     ]
    }
   ],
   "source": [
    "# Information about each columns in our data\n",
    "data_train.info()"
   ]
  },
  {
   "cell_type": "markdown",
   "id": "6532235a",
   "metadata": {},
   "source": [
    "<br>\n",
    "\n",
    "---\n",
    "\n",
    "## 3.0 - Visualizing Data\n",
    "\n",
    "---\n",
    "<br>"
   ]
  },
  {
   "cell_type": "code",
   "execution_count": 11,
   "id": "7cdefafa",
   "metadata": {
    "scrolled": true
   },
   "outputs": [
    {
     "data": {
      "text/plain": [
       "<AxesSubplot:>"
      ]
     },
     "execution_count": 11,
     "metadata": {},
     "output_type": "execute_result"
    },
    {
     "data": {
      "image/png": "[encoded data removed]",
      "text/plain": [
       "<Figure size 432x288 with 1 Axes>"
      ]
     },
     "metadata": {
      "needs_background": "light"
     },
     "output_type": "display_data"
    }
   ],
   "source": [
    "data_train.age.hist(bins=40)            # Take a look at age distributions"
   ]
  },
  {
   "cell_type": "code",
   "execution_count": 12,
   "id": "b5cb60e7",
   "metadata": {
    "scrolled": true
   },
   "outputs": [
    {
     "data": {
      "text/plain": [
       "<AxesSubplot:>"
      ]
     },
     "execution_count": 12,
     "metadata": {},
     "output_type": "execute_result"
    },
    {
     "data": {
      "image/png": "[encoded data removed]",
      "text/plain": [
       "<Figure size 432x288 with 1 Axes>"
      ]
     },
     "metadata": {
      "needs_background": "light"
     },
     "output_type": "display_data"
    }
   ],
   "source": [
    "data_train.sex.value_counts().plot(kind='bar')         # Take a look at gender distribution"
   ]
  },
  {
   "cell_type": "code",
   "execution_count": 13,
   "id": "d8a8a2b2",
   "metadata": {},
   "outputs": [
    {
     "data": {
      "text/plain": [
       "<AxesSubplot:>"
      ]
     },
     "execution_count": 13,
     "metadata": {},
     "output_type": "execute_result"
    },
    {
     "data": {
      "image/png": "[encoded data removed]",
      "text/plain": [
       "<Figure size 432x288 with 1 Axes>"
      ]
     },
     "metadata": {
      "needs_background": "light"
     },
     "output_type": "display_data"
    }
   ],
   "source": [
    "data_train['class'].value_counts().plot(kind='bar')        # Take a look at classes distribution"
   ]
  },
  {
   "cell_type": "code",
   "execution_count": 14,
   "id": "7bb58062",
   "metadata": {},
   "outputs": [
    {
     "data": {
      "text/plain": [
       "<AxesSubplot:xlabel='survival %'>"
      ]
     },
     "execution_count": 14,
     "metadata": {},
     "output_type": "execute_result"
    },
    {
     "data": {
      "image/png": "[encoded data removed]",
      "text/plain": [
       "<Figure size 432x288 with 1 Axes>"
      ]
     },
     "metadata": {
      "needs_background": "light"
     },
     "output_type": "display_data"
    }
   ],
   "source": [
    "survival_by_gender = pd.concat([ data_train, y_train ], axis=1).groupby('sex').survived.mean().plot(kind='bar')\n",
    "survival_by_gender.set_xlabel('survival %')\n",
    "survival_by_gender"
   ]
  },
  {
   "cell_type": "markdown",
   "id": "6d4b47a7",
   "metadata": {},
   "source": [
    "<br>\n",
    "\n",
    "---\n",
    "\n",
    "## 4.0 - Feature Columns\n",
    "\n",
    "---\n",
    "<br>\n",
    "\n",
    "We need to tell our model what variables it need to consider when making predictions. In this example, we will use all of the available columns.\n",
    "\n",
    "Each column can either be categorical variable or numerical variable. We need to differentiate them, and create __Feature Columns__ based on it.\n",
    "\n",
    "For categorical variables, since it only has a limited set of possible values, we call it __vocabulary__."
   ]
  },
  {
   "cell_type": "code",
   "execution_count": 20,
   "id": "4ecae50f",
   "metadata": {},
   "outputs": [
    {
     "name": "stdout",
     "output_type": "stream",
     "text": [
      "VocabularyListCategoricalColumn(key='sex', vocabulary_list=('male', 'female'), dtype=tf.string, default_value=-1, num_oov_buckets=0)\n",
      "\n",
      "VocabularyListCategoricalColumn(key='n_siblings_spouses', vocabulary_list=(1, 0, 3, 4, 2, 5, 8), dtype=tf.int64, default_value=-1, num_oov_buckets=0)\n",
      "\n",
      "VocabularyListCategoricalColumn(key='parch', vocabulary_list=(0, 1, 2, 5, 3, 4), dtype=tf.int64, default_value=-1, num_oov_buckets=0)\n",
      "\n",
      "VocabularyListCategoricalColumn(key='class', vocabulary_list=('Third', 'First', 'Second'), dtype=tf.string, default_value=-1, num_oov_buckets=0)\n",
      "\n",
      "VocabularyListCategoricalColumn(key='deck', vocabulary_list=('unknown', 'C', 'G', 'A', 'B', 'D', 'F', 'E'), dtype=tf.string, default_value=-1, num_oov_buckets=0)\n",
      "\n",
      "VocabularyListCategoricalColumn(key='embark_town', vocabulary_list=('Southampton', 'Cherbourg', 'Queenstown', 'unknown'), dtype=tf.string, default_value=-1, num_oov_buckets=0)\n",
      "\n",
      "VocabularyListCategoricalColumn(key='alone', vocabulary_list=('n', 'y'), dtype=tf.string, default_value=-1, num_oov_buckets=0)\n",
      "\n",
      "NumericColumn(key='age', shape=(1,), default_value=None, dtype=tf.float32, normalizer_fn=None)\n",
      "\n",
      "NumericColumn(key='fare', shape=(1,), default_value=None, dtype=tf.float32, normalizer_fn=None)\n",
      "\n"
     ]
    }
   ],
   "source": [
    "CATEGORICAL_COLUMNS = ['sex','n_siblings_spouses','parch','class','deck','embark_town', 'alone']\n",
    "NUMERICAL_COLUMNS = ['age','fare']\n",
    "\n",
    "feature_columns = []\n",
    "\n",
    "# Pandas Series has a unique() method, which returns a list of unique entries in the Series\n",
    "\n",
    "# Setting up the categorical variables. We need to pass in the finite set of possible values, too\n",
    "for category in CATEGORICAL_COLUMNS:\n",
    "  vocab = data_train[category].unique()\n",
    "  feature_columns.append( tf.feature_column.categorical_column_with_vocabulary_list(category, vocab) )\n",
    "\n",
    "# Setting up the numerical variables.\n",
    "for numeric in NUMERICAL_COLUMNS:\n",
    "  feature_columns.append( tf.feature_column.numeric_column(numeric) )\n",
    "\n",
    "# Output\n",
    "for feature in feature_columns:\n",
    "    print(feature, end='\\n\\n')"
   ]
  },
  {
   "cell_type": "markdown",
   "id": "eb608129",
   "metadata": {},
   "source": [
    "<br>\n",
    "\n",
    "---\n",
    "\n",
    "## 5.0 - The Training Process\n",
    "\n",
    "---\n",
    "<br>\n",
    "\n",
    "* In machine learning, rather than feeding our model rules to evaluate the output, we train it by giving it our dataset: the input and supposed output.\n",
    "\n",
    "\n",
    "* The dataset, therefore may be large, until a certain point where it can't be loaded directly into our RAM. Thus, the data has to be feeded in __batches__\n",
    "\n",
    "\n",
    "* Alongside batches, there are also __epochs__, which simply means how many times the model will see the same data. By letting the model train with the same training data a fixed amount of times, we hope the model will be able to learn better than just seeing it once. As the saying goes,\n",
    "    > *Repetition is the mother of learning*\n",
    "    \n",
    "\n",
    "* However, beware of __overfitting__ issues where the model sees the same dataset too many times until a certain point where the model essentially *memorizes* the input, and bad at predicting when new data is introduced."
   ]
  },
  {
   "cell_type": "markdown",
   "id": "34d2ad49",
   "metadata": {},
   "source": [
    "### Input Function\n",
    "\n",
    "* To feed the data in batches, with a fixed number of epochs, we need a input function. In tensorflow, an input function will take in your features along with the label, and return a `tf.data.Dataset` object.\n",
    "\n",
    "\n",
    "* We would also specify the batch size, whether to shuffle the dataset or not, as well as number of epochs\n",
    "\n",
    "\n",
    "* In our case, our model need to use a input function to fetch data as it trains, instead of feeding it the whole dataset at once."
   ]
  },
  {
   "cell_type": "code",
   "execution_count": 21,
   "id": "57343528",
   "metadata": {},
   "outputs": [],
   "source": [
    "# Input function factory - We will use it once for training dataset and another for test dataset\n",
    "def make_input_function(data_dataframe, label_dataframe, no_epochs=10, shuffle=True, batch_size=32 ):\n",
    "  def input_fn():\n",
    "    # Creates a tf.data.Dataset object, takes in a tuple of ( data_df dictionary, label_df )\n",
    "    dataset = tf.data.Dataset.from_tensor_slices( ( dict(data_dataframe), label_dataframe ) )\n",
    "\n",
    "    # Shuffles the dataset if specified\n",
    "    if shuffle:\n",
    "      dataset = dataset.shuffle(1000)\n",
    "   \n",
    "    # Split dataset into smaller batches, repeated epoch times\n",
    "    dataset = dataset.batch(batch_size).repeat(no_epochs)\n",
    "    return dataset\n",
    "\n",
    "  return input_fn\n"
   ]
  },
  {
   "cell_type": "code",
   "execution_count": 25,
   "id": "de53334e",
   "metadata": {},
   "outputs": [],
   "source": [
    "# For training, we will have train dataset x30 times (30 epoch), and shuffling is enabled\n",
    "train_input_function = make_input_function(data_train, y_train, no_epochs=30)\n",
    "# For test, we don't need epoch nor shuffling.\n",
    "test_input_function = make_input_function(data_test, y_test, no_epochs=1, shuffle=False)"
   ]
  },
  {
   "cell_type": "markdown",
   "id": "0617fe7a",
   "metadata": {},
   "source": [
    "<br>\n",
    "\n",
    "---\n",
    "\n",
    "## 6.0 - Creating the Model\n",
    "\n",
    "---\n",
    "<br>"
   ]
  },
  {
   "cell_type": "code",
   "execution_count": 26,
   "id": "023b30a5",
   "metadata": {},
   "outputs": [],
   "source": [
    "# The model that we will use is Linear Classification Model\n",
    "# Pass in the feature columns so the model know what exactly to search for\n",
    "linear_estimator = tf.estimator.LinearClassifier( feature_columns=feature_columns )\n",
    "\n",
    "clear_output()"
   ]
  },
  {
   "cell_type": "code",
   "execution_count": 27,
   "id": "f114b5bf",
   "metadata": {},
   "outputs": [],
   "source": [
    "# Train the model using the training input function\n",
    "linear_estimator.train( train_input_function )\n",
    "\n",
    "clear_output()"
   ]
  },
  {
   "cell_type": "code",
   "execution_count": 28,
   "id": "ec21a13e",
   "metadata": {},
   "outputs": [],
   "source": [
    "# Now let's test our model and store the results to view later\n",
    "result = linear_estimator.evaluate( test_input_function ) \n",
    "\n",
    "clear_output()"
   ]
  },
  {
   "cell_type": "code",
   "execution_count": 30,
   "id": "970c1095",
   "metadata": {},
   "outputs": [
    {
     "data": {
      "text/plain": [
       "{'accuracy': 0.75757575,\n",
       " 'accuracy_baseline': 0.625,\n",
       " 'auc': 0.8346801,\n",
       " 'auc_precision_recall': 0.7864694,\n",
       " 'average_loss': 0.4971873,\n",
       " 'label/mean': 0.375,\n",
       " 'loss': 0.48639047,\n",
       " 'precision': 0.6495727,\n",
       " 'prediction/mean': 0.45002466,\n",
       " 'recall': 0.7676768,\n",
       " 'global_step': 600}"
      ]
     },
     "execution_count": 30,
     "metadata": {},
     "output_type": "execute_result"
    }
   ],
   "source": [
    "result\n",
    "\n",
    "# Look at the accuracy of the model. Obviously it is not so accurate in predicting aren't it? (~75%)"
   ]
  },
  {
   "cell_type": "markdown",
   "id": "9d00e031",
   "metadata": {},
   "source": [
    "<br>\n",
    "\n",
    "---\n",
    "\n",
    "## 7.0 - Reviewing our Model Predictions\n",
    "\n",
    "---\n",
    "<br>"
   ]
  },
  {
   "cell_type": "code",
   "execution_count": 31,
   "id": "723bf2d4",
   "metadata": {},
   "outputs": [],
   "source": [
    "# Do note that without list(), it will return a generator object\n",
    "# Have our model predict our test input\n",
    "predictions = list( linear_estimator.predict(test_input_function ) )     \n",
    "clear_output()"
   ]
  },
  {
   "cell_type": "code",
   "execution_count": 32,
   "id": "c2dbb751",
   "metadata": {
    "scrolled": true
   },
   "outputs": [
    {
     "data": {
      "text/plain": [
       "{'logits': array([-2.3460097], dtype=float32),\n",
       " 'logistic': array([0.08738342], dtype=float32),\n",
       " 'probabilities': array([0.91261655, 0.08738346], dtype=float32),\n",
       " 'class_ids': array([0], dtype=int64),\n",
       " 'classes': array([b'0'], dtype=object),\n",
       " 'all_class_ids': array([0, 1]),\n",
       " 'all_classes': array([b'0', b'1'], dtype=object)}"
      ]
     },
     "execution_count": 32,
     "metadata": {},
     "output_type": "execute_result"
    }
   ],
   "source": [
    "# See at the first prediction to see how it is structured\n",
    "predictions[0]\n",
    "\n",
    "# Look at the all_classes. It means that the classification can either be 0 (Not survive) or 1 (survived).\n",
    "# Now probabilities represent the probability for the current prediction to fall in either one of the class\n",
    "# Since here it has only two classes, one probability is the negation of another"
   ]
  },
  {
   "cell_type": "code",
   "execution_count": 33,
   "id": "24b51387",
   "metadata": {},
   "outputs": [
    {
     "name": "stdout",
     "output_type": "stream",
     "text": [
      "{'sex': 'male', 'age': 35.0, 'n_siblings_spouses': 0, 'parch': 0, 'fare': 8.05, 'class': 'Third', 'deck': 'unknown', 'embark_town': 'Southampton', 'alone': 'y'}\n",
      "Survived: False\n",
      "Predict Survival: 0.0873834639787674\n",
      "-------------------------\n",
      "{'sex': 'male', 'age': 54.0, 'n_siblings_spouses': 0, 'parch': 0, 'fare': 51.8625, 'class': 'First', 'deck': 'E', 'embark_town': 'Southampton', 'alone': 'y'}\n",
      "Survived: False\n",
      "Predict Survival: 0.6517899036407471\n",
      "-------------------------\n",
      "{'sex': 'female', 'age': 58.0, 'n_siblings_spouses': 0, 'parch': 0, 'fare': 26.55, 'class': 'First', 'deck': 'C', 'embark_town': 'Southampton', 'alone': 'y'}\n",
      "Survived: True\n",
      "Predict Survival: 0.8334980607032776\n",
      "-------------------------\n",
      "{'sex': 'female', 'age': 55.0, 'n_siblings_spouses': 0, 'parch': 0, 'fare': 16.0, 'class': 'Second', 'deck': 'unknown', 'embark_town': 'Southampton', 'alone': 'y'}\n",
      "Survived: True\n",
      "Predict Survival: 0.7196469902992249\n",
      "-------------------------\n",
      "{'sex': 'male', 'age': 34.0, 'n_siblings_spouses': 0, 'parch': 0, 'fare': 13.0, 'class': 'Second', 'deck': 'D', 'embark_town': 'Southampton', 'alone': 'y'}\n",
      "Survived: True\n",
      "Predict Survival: 0.3319750726222992\n",
      "-------------------------\n"
     ]
    }
   ],
   "source": [
    "# Let's look at the first five passengers and the predicted either our model is correct or not!\n",
    "for passenger in zip( data_test.loc[:5].to_dict(orient='records'), y_test[:5], predictions[:5] ):\n",
    "  print(passenger[0])\n",
    "  print(\"Survived: \" + str(bool(passenger[1] ) ) )\n",
    "  print( f\"Predict Survival: {passenger[2]['probabilities'][1] }\" )\n",
    "  print('-------------------------')"
   ]
  },
  {
   "cell_type": "markdown",
   "id": "c7d90390",
   "metadata": {},
   "source": [
    "Obviously the model are far from perfect. There are some wrong predictions. The accuracy with the test data is only as high as 75%. There are certain ways to raise the accuracy, but until now, we've learned on how to create a Linear Classification Model using tensorflow!"
   ]
  }
 ],
 "metadata": {
  "kernelspec": {
   "display_name": "Python 3 (ipykernel)",
   "language": "python",
   "name": "python3"
  },
  "language_info": {
   "codemirror_mode": {
    "name": "ipython",
    "version": 3
   },
   "file_extension": ".py",
   "mimetype": "text/x-python",
   "name": "python",
   "nbconvert_exporter": "python",
   "pygments_lexer": "ipython3",
   "version": "3.9.6"
  }
 },
 "nbformat": 4,
 "nbformat_minor": 5
}
