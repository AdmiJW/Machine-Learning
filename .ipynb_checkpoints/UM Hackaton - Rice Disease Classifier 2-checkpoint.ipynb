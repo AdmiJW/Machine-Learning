{
 "cells": [
  {
   "cell_type": "markdown",
   "id": "5591592c",
   "metadata": {},
   "source": [
    "<br>\n",
    "\n",
    "---\n",
    "\n",
    "## 1.0 - Importing Modules\n",
    "\n",
    "---\n",
    "<br>"
   ]
  },
  {
   "cell_type": "code",
   "execution_count": 17,
   "id": "a1aec25d",
   "metadata": {},
   "outputs": [],
   "source": [
    "import matplotlib.pyplot as plt\n",
    "import numpy as np\n",
    "import os\n",
    "import tensorflow as tf\n",
    "\n",
    "from tensorflow import keras\n",
    "from tensorflow.keras import layers\n",
    "from tensorflow.keras.models import Sequential"
   ]
  },
  {
   "cell_type": "markdown",
   "id": "4c45a1c1",
   "metadata": {},
   "source": [
    "<br>\n",
    "\n",
    "---\n",
    "\n",
    "## 2.0 - Loading Models\n",
    "\n",
    "---\n",
    "<br>"
   ]
  },
  {
   "cell_type": "code",
   "execution_count": 18,
   "id": "9a25b4c1",
   "metadata": {},
   "outputs": [],
   "source": [
    "brownspot_model = keras.models.load_model('trained_models/um_brownspot_model.h5')"
   ]
  },
  {
   "cell_type": "code",
   "execution_count": 19,
   "id": "ecf349d8",
   "metadata": {},
   "outputs": [],
   "source": [
    "hispa_model = keras.models.load_model('trained_models/um_hispa_model.h5')"
   ]
  },
  {
   "cell_type": "code",
   "execution_count": 20,
   "id": "bc856df5",
   "metadata": {},
   "outputs": [],
   "source": [
    "leafblast_model = keras.models.load_model('trained_models/um_leafblast_model.h5')"
   ]
  },
  {
   "cell_type": "code",
   "execution_count": 5,
   "id": "837eafcd",
   "metadata": {
    "scrolled": false
   },
   "outputs": [
    {
     "name": "stdout",
     "output_type": "stream",
     "text": [
      "Model: \"sequential_3\"\n",
      "_________________________________________________________________\n",
      "Layer (type)                 Output Shape              Param #   \n",
      "=================================================================\n",
      "sequential (Sequential)      (None, 300, 300, 3)       0         \n",
      "_________________________________________________________________\n",
      "rescaling_2 (Rescaling)      (None, 300, 300, 3)       0         \n",
      "_________________________________________________________________\n",
      "resnet50v2 (Functional)      (None, 10, 10, 2048)      23564800  \n",
      "_________________________________________________________________\n",
      "flatten_2 (Flatten)          (None, 204800)            0         \n",
      "_________________________________________________________________\n",
      "dense_4 (Dense)              (None, 32)                6553632   \n",
      "_________________________________________________________________\n",
      "dense_5 (Dense)              (None, 1)                 33        \n",
      "=================================================================\n",
      "Total params: 30,118,465\n",
      "Trainable params: 6,553,665\n",
      "Non-trainable params: 23,564,800\n",
      "_________________________________________________________________\n"
     ]
    }
   ],
   "source": [
    "brownspot_model.summary()"
   ]
  },
  {
   "cell_type": "code",
   "execution_count": 21,
   "id": "47cd8466",
   "metadata": {},
   "outputs": [
    {
     "name": "stdout",
     "output_type": "stream",
     "text": [
      "Model: \"sequential_4\"\n",
      "_________________________________________________________________\n",
      "Layer (type)                 Output Shape              Param #   \n",
      "=================================================================\n",
      "sequential (Sequential)      (None, 300, 300, 3)       0         \n",
      "_________________________________________________________________\n",
      "rescaling_3 (Rescaling)      (None, 300, 300, 3)       0         \n",
      "_________________________________________________________________\n",
      "resnet50v2 (Functional)      (None, 10, 10, 2048)      23564800  \n",
      "_________________________________________________________________\n",
      "flatten_3 (Flatten)          (None, 204800)            0         \n",
      "_________________________________________________________________\n",
      "dense_6 (Dense)              (None, 32)                6553632   \n",
      "_________________________________________________________________\n",
      "dense_7 (Dense)              (None, 1)                 33        \n",
      "=================================================================\n",
      "Total params: 30,118,465\n",
      "Trainable params: 6,553,665\n",
      "Non-trainable params: 23,564,800\n",
      "_________________________________________________________________\n"
     ]
    }
   ],
   "source": [
    "hispa_model.summary()"
   ]
  },
  {
   "cell_type": "code",
   "execution_count": 22,
   "id": "69918230",
   "metadata": {},
   "outputs": [
    {
     "name": "stdout",
     "output_type": "stream",
     "text": [
      "Model: \"sequential_5\"\n",
      "_________________________________________________________________\n",
      "Layer (type)                 Output Shape              Param #   \n",
      "=================================================================\n",
      "sequential (Sequential)      (None, 300, 300, 3)       0         \n",
      "_________________________________________________________________\n",
      "rescaling_4 (Rescaling)      (None, 300, 300, 3)       0         \n",
      "_________________________________________________________________\n",
      "resnet50v2 (Functional)      (None, 10, 10, 2048)      23564800  \n",
      "_________________________________________________________________\n",
      "flatten_4 (Flatten)          (None, 204800)            0         \n",
      "_________________________________________________________________\n",
      "dense_8 (Dense)              (None, 32)                6553632   \n",
      "_________________________________________________________________\n",
      "dense_9 (Dense)              (None, 1)                 33        \n",
      "=================================================================\n",
      "Total params: 30,118,465\n",
      "Trainable params: 6,553,665\n",
      "Non-trainable params: 23,564,800\n",
      "_________________________________________________________________\n"
     ]
    }
   ],
   "source": [
    "leafblast_model.summary()"
   ]
  },
  {
   "cell_type": "markdown",
   "id": "43f296b6",
   "metadata": {},
   "source": [
    "<br>\n",
    "\n",
    "---\n",
    "\n",
    "## 3.0 - Prediction\n",
    "\n",
    "---\n",
    "<br>"
   ]
  },
  {
   "cell_type": "code",
   "execution_count": 6,
   "id": "8600cd74",
   "metadata": {},
   "outputs": [],
   "source": [
    "# Import basic GUI functionality\n",
    "from ipywidgets import Button\n",
    "from tkinter import Tk, filedialog\n",
    "from IPython.display import clear_output, display"
   ]
  },
  {
   "cell_type": "code",
   "execution_count": 81,
   "id": "bdd2a244",
   "metadata": {},
   "outputs": [],
   "source": [
    "def select_files(b):\n",
    "    clear_output()\n",
    "    \n",
    "    root = Tk()\n",
    "    root.withdraw() # Hide the main window.\n",
    "    root.call('wm', 'attributes', '.', '-topmost', True) # Raise the root to the top of all windows.\n",
    "    b.files = filedialog.askopenfilename(multiple=True) # List of selected files will be set button's file attribute.\n",
    "\n",
    "    print(f'Loading the image: {b.files[0]}')\n",
    "    \n",
    "    img = keras.preprocessing.image.load_img(\n",
    "        b.files[0], target_size=(300,300)\n",
    "    )\n",
    "    \n",
    "    plt.figure()\n",
    "    plt.imshow(img)\n",
    "    \n",
    "    img_array = keras.preprocessing.image.img_to_array(img)\n",
    "    img_array /= 255.0    # Remember to scale down to [0,1]\n",
    "    img_array = tf.expand_dims(img_array, 0) # Create a batch\n",
    "    \n",
    "    # 0 - Brown Spot, 1 - Healthy\n",
    "    brown_spot_predict = brownspot_model.predict(img_array)[0][0]\n",
    "    print( f'Predicted: {\"Healthy\" if brown_spot_predict >= 0.5 else \"Brown Spot\"} with output value {brown_spot_predict}' )\n",
    "    \n",
    "    # 0 - Healthy, 1 - Hispa\n",
    "    hispa_predict = hispa_model.predict(img_array)[0][0]\n",
    "    print( f'Predicted: {\"Healthy\" if hispa_predict <= 0.5 else \"Hispa\"} with output value {hispa_predict}' )\n",
    "    \n",
    "    # 0 - Healthy, 1 - Leaf Blast\n",
    "    leafblast_predict = leafblast_model.predict(img_array)[0][0]\n",
    "    print( f'Predicted: {\"Healthy\" if leafblast_predict <= 0.5 else \"Leaf Blast\"} with output value {leafblast_predict}' )\n",
    "\n"
   ]
  },
  {
   "cell_type": "code",
   "execution_count": 83,
   "id": "e0c67b55",
   "metadata": {
    "scrolled": true
   },
   "outputs": [
    {
     "name": "stdout",
     "output_type": "stream",
     "text": [
      "Loading the image: D:/My Desktop/Programming/Projects/MachineLearning/datasets/RiceDiseaseDataset/validation/BrownSpot_vs_Healthy/BrownSpot/IMG_20190419_113933.jpg\n",
      "[[230. 230. 254.]\n",
      " [236. 237. 255.]\n",
      " [235. 236. 254.]\n",
      " [233. 234. 255.]\n",
      " [226. 227. 255.]\n",
      " [234. 235. 255.]\n",
      " [233. 234. 255.]\n",
      " [237. 238. 255.]\n",
      " [240. 242. 255.]\n",
      " [234. 235. 255.]\n",
      " [237. 238. 255.]\n",
      " [233. 234. 255.]\n",
      " [226. 227. 255.]\n",
      " [231. 233. 254.]\n",
      " [234. 237. 255.]\n",
      " [222. 226. 255.]\n",
      " [231. 236. 255.]\n",
      " [226. 228. 253.]\n",
      " [233. 236. 255.]\n",
      " [225. 229. 255.]\n",
      " [233. 236. 255.]\n",
      " [233. 236. 255.]\n",
      " [235. 238. 255.]\n",
      " [231. 233. 254.]\n",
      " [226. 230. 255.]\n",
      " [229. 231. 254.]\n",
      " [231. 233. 255.]\n",
      " [234. 237. 255.]\n",
      " [231. 233. 254.]\n",
      " [229. 231. 254.]\n",
      " [234. 237. 255.]\n",
      " [231. 233. 254.]\n",
      " [232. 235. 254.]\n",
      " [239. 243. 255.]\n",
      " [236. 242. 255.]\n",
      " [225. 229. 255.]\n",
      " [231. 233. 254.]\n",
      " [219. 222. 253.]\n",
      " [226. 227. 255.]\n",
      " [222. 226. 255.]\n",
      " [233. 236. 255.]\n",
      " [233. 236. 255.]\n",
      " [225. 229. 255.]\n",
      " [222. 226. 255.]\n",
      " [231. 233. 254.]\n",
      " [233. 236. 255.]\n",
      " [233. 236. 255.]\n",
      " [231. 233. 255.]\n",
      " [233. 235. 255.]\n",
      " [233. 236. 255.]\n",
      " [229. 231. 254.]\n",
      " [235. 238. 255.]\n",
      " [231. 233. 255.]\n",
      " [232. 232. 255.]\n",
      " [225. 229. 255.]\n",
      " [232. 234. 255.]\n",
      " [225. 229. 255.]\n",
      " [226. 227. 255.]\n",
      " [231. 233. 254.]\n",
      " [232. 233. 254.]\n",
      " [230. 230. 254.]\n",
      " [233. 234. 255.]\n",
      " [231. 233. 254.]\n",
      " [230. 232. 253.]\n",
      " [231. 233. 254.]\n",
      " [231. 233. 254.]\n",
      " [233. 234. 255.]\n",
      " [233. 234. 255.]\n",
      " [231. 233. 254.]\n",
      " [227. 229. 254.]\n",
      " [222. 223. 254.]\n",
      " [221. 221. 255.]\n",
      " [216. 218. 255.]\n",
      " [226. 227. 255.]\n",
      " [235. 236. 254.]\n",
      " [230. 230. 254.]\n",
      " [221. 221. 255.]\n",
      " [229. 231. 255.]\n",
      " [231. 233. 255.]\n",
      " [225. 229. 255.]\n",
      " [225. 229. 255.]\n",
      " [229. 231. 254.]\n",
      " [234. 237. 255.]\n",
      " [231. 233. 255.]\n",
      " [230. 232. 255.]\n",
      " [230. 232. 253.]\n",
      " [229. 231. 254.]\n",
      " [225. 229. 255.]\n",
      " [231. 233. 255.]\n",
      " [229. 231. 254.]\n",
      " [225. 229. 255.]\n",
      " [229. 231. 254.]\n",
      " [226. 230. 255.]\n",
      " [230. 230. 254.]\n",
      " [215. 217. 255.]\n",
      " [220. 220. 255.]\n",
      " [221. 221. 255.]\n",
      " [229. 231. 255.]\n",
      " [234. 235. 255.]\n",
      " [211. 213. 251.]\n",
      " [230. 230. 254.]\n",
      " [215. 217. 255.]\n",
      " [226. 227. 255.]\n",
      " [233. 234. 254.]\n",
      " [225. 229. 255.]\n",
      " [219. 222. 253.]\n",
      " [225. 229. 254.]\n",
      " [216. 219. 250.]\n",
      " [224. 230. 255.]\n",
      " [225. 229. 255.]\n",
      " [226. 231. 253.]\n",
      " [214. 217. 248.]\n",
      " [220. 223. 254.]\n",
      " [226. 227. 255.]\n",
      " [230. 232. 255.]\n",
      " [223. 227. 255.]\n",
      " [225. 229. 255.]\n",
      " [222. 226. 255.]\n",
      " [231. 233. 255.]\n",
      " [227. 223. 255.]\n",
      " [229. 226. 255.]\n",
      " [223. 219. 252.]\n",
      " [227. 224. 255.]\n",
      " [233. 231. 255.]\n",
      " [226. 223. 254.]\n",
      " [230. 227. 254.]\n",
      " [231. 228. 255.]\n",
      " [222. 221. 253.]\n",
      " [230. 227. 254.]\n",
      " [227. 224. 255.]\n",
      " [230. 230. 255.]\n",
      " [228. 225. 255.]\n",
      " [233. 231. 255.]\n",
      " [229. 226. 255.]\n",
      " [228. 225. 254.]\n",
      " [213. 212. 246.]\n",
      " [228. 225. 255.]\n",
      " [229. 224. 255.]\n",
      " [222. 221. 253.]\n",
      " [235. 231. 254.]\n",
      " [225. 222. 253.]\n",
      " [229. 226. 255.]\n",
      " [228. 225. 255.]\n",
      " [228. 225. 255.]\n",
      " [222. 221. 253.]\n",
      " [232. 229. 255.]\n",
      " [228. 225. 255.]\n",
      " [230. 230. 254.]\n",
      " [216. 219. 250.]\n",
      " [216. 219. 250.]\n",
      " [224. 228. 255.]\n",
      " [225. 229. 255.]\n",
      " [225. 229. 255.]\n",
      " [222. 225. 255.]\n",
      " [222. 226. 255.]\n",
      " [226. 230. 255.]\n",
      " [215. 218. 249.]\n",
      " [222. 226. 255.]\n",
      " [216. 219. 250.]\n",
      " [223. 219. 252.]\n",
      " [232. 229. 255.]\n",
      " [227. 224. 255.]\n",
      " [214. 213. 245.]\n",
      " [227. 224. 255.]\n",
      " [222. 219. 250.]\n",
      " [216. 219. 250.]\n",
      " [224. 228. 255.]\n",
      " [219. 222. 253.]\n",
      " [222. 219. 250.]\n",
      " [220. 219. 250.]\n",
      " [217. 218. 249.]\n",
      " [226. 223. 254.]\n",
      " [226. 223. 254.]\n",
      " [225. 219. 253.]\n",
      " [226. 223. 254.]\n",
      " [226. 223. 254.]\n",
      " [222. 219. 250.]\n",
      " [227. 224. 255.]\n",
      " [224. 220. 253.]\n",
      " [228. 225. 255.]\n",
      " [222. 219. 250.]\n",
      " [228. 225. 255.]\n",
      " [225. 222. 251.]\n",
      " [224. 221. 250.]\n",
      " [221. 218. 247.]\n",
      " [228. 225. 254.]\n",
      " [221. 218. 247.]\n",
      " [221. 218. 247.]\n",
      " [224. 221. 250.]\n",
      " [232. 229. 255.]\n",
      " [219. 216. 245.]\n",
      " [226. 223. 254.]\n",
      " [222. 218. 251.]\n",
      " [219. 215. 248.]\n",
      " [214. 213. 245.]\n",
      " [219. 215. 248.]\n",
      " [219. 215. 248.]\n",
      " [216. 219. 250.]\n",
      " [219. 222. 253.]\n",
      " [222. 225. 255.]\n",
      " [219. 222. 253.]\n",
      " [220. 223. 254.]\n",
      " [219. 222. 253.]\n",
      " [214. 217. 248.]\n",
      " [218. 221. 252.]\n",
      " [216. 219. 250.]\n",
      " [219. 222. 253.]\n",
      " [216. 219. 250.]\n",
      " [220. 223. 254.]\n",
      " [214. 217. 248.]\n",
      " [210. 213. 244.]\n",
      " [211. 214. 245.]\n",
      " [219. 222. 253.]\n",
      " [214. 217. 248.]\n",
      " [215. 218. 249.]\n",
      " [218. 221. 254.]\n",
      " [220. 223. 254.]\n",
      " [220. 223. 254.]\n",
      " [215. 218. 249.]\n",
      " [218. 221. 252.]\n",
      " [208. 211. 242.]\n",
      " [216. 219. 250.]\n",
      " [212. 215. 246.]\n",
      " [214. 217. 248.]\n",
      " [218. 221. 252.]\n",
      " [212. 215. 246.]\n",
      " [207. 210. 241.]\n",
      " [220. 223. 254.]\n",
      " [211. 214. 245.]\n",
      " [212. 215. 246.]\n",
      " [211. 214. 245.]\n",
      " [218. 221. 252.]\n",
      " [216. 219. 250.]\n",
      " [211. 214. 245.]\n",
      " [208. 211. 242.]\n",
      " [214. 217. 248.]\n",
      " [212. 215. 246.]\n",
      " [218. 221. 252.]\n",
      " [211. 214. 245.]\n",
      " [214. 217. 248.]\n",
      " [212. 215. 246.]\n",
      " [211. 214. 245.]\n",
      " [210. 213. 244.]\n",
      " [211. 214. 245.]\n",
      " [216. 219. 250.]\n",
      " [211. 214. 245.]\n",
      " [211. 214. 245.]\n",
      " [214. 217. 248.]\n",
      " [208. 211. 242.]\n",
      " [211. 214. 245.]\n",
      " [211. 214. 245.]\n",
      " [206. 209. 240.]\n",
      " [210. 213. 244.]\n",
      " [217. 220. 251.]\n",
      " [204. 207. 238.]\n",
      " [199. 202. 233.]\n",
      " [204. 207. 238.]\n",
      " [215. 218. 249.]\n",
      " [216. 219. 250.]\n",
      " [211. 214. 245.]\n",
      " [216. 219. 250.]\n",
      " [215. 218. 249.]\n",
      " [215. 218. 249.]\n",
      " [207. 210. 241.]\n",
      " [207. 210. 241.]\n",
      " [214. 217. 248.]\n",
      " [207. 210. 241.]\n",
      " [207. 210. 241.]\n",
      " [214. 217. 248.]\n",
      " [212. 215. 246.]\n",
      " [210. 213. 244.]\n",
      " [207. 210. 241.]\n",
      " [208. 210. 248.]\n",
      " [212. 214. 252.]\n",
      " [208. 210. 249.]\n",
      " [211. 213. 251.]\n",
      " [209. 211. 249.]\n",
      " [207. 209. 247.]\n",
      " [217. 219. 255.]\n",
      " [207. 209. 247.]\n",
      " [215. 217. 255.]\n",
      " [203. 205. 243.]\n",
      " [209. 211. 249.]\n",
      " [210. 213. 246.]\n",
      " [207. 210. 241.]\n",
      " [212. 215. 246.]\n",
      " [208. 211. 242.]\n",
      " [197. 200. 231.]\n",
      " [210. 213. 244.]\n",
      " [211. 214. 245.]\n",
      " [210. 213. 244.]\n",
      " [210. 213. 244.]\n",
      " [206. 209. 240.]\n",
      " [208. 211. 242.]\n",
      " [208. 211. 242.]\n",
      " [204. 207. 238.]\n",
      " [202. 205. 236.]\n",
      " [207. 210. 241.]\n",
      " [206. 209. 240.]\n",
      " [201. 204. 235.]]\n",
      "Predicted: Healthy with output value 0.6652185916900635\n",
      "Predicted: Healthy with output value 0.45682045817375183\n",
      "Predicted: Healthy with output value 0.4237854778766632\n"
     ]
    },
    {
     "data": {
      "image/png": "[encoded data removed]",
      "text/plain": [
       "<Figure size 432x288 with 1 Axes>"
      ]
     },
     "metadata": {
      "needs_background": "light"
     },
     "output_type": "display_data"
    }
   ],
   "source": [
    "\n",
    "# Register the event listener and display the button \n",
    "fileselect = Button(description=\"File select\")\n",
    "fileselect.on_click(select_files)\n",
    "\n",
    "display(fileselect)"
   ]
  },
  {
   "cell_type": "markdown",
   "id": "0922773c",
   "metadata": {},
   "source": [
    "<br>\n",
    "\n",
    "---\n",
    "\n",
    "## 4.0 - Evaluate Test Dataset\n",
    "\n",
    "---\n",
    "<br>"
   ]
  },
  {
   "cell_type": "code",
   "execution_count": 29,
   "id": "6021e069",
   "metadata": {},
   "outputs": [],
   "source": [
    "IMG_SIZE = (300, 300)"
   ]
  },
  {
   "cell_type": "code",
   "execution_count": 30,
   "id": "4423e728",
   "metadata": {},
   "outputs": [
    {
     "name": "stdout",
     "output_type": "stream",
     "text": [
      "Found 246 files belonging to 2 classes.\n"
     ]
    }
   ],
   "source": [
    "# Validation Dataset for Brown Spot vs Healthy\n",
    "brown_spot_dir = 'datasets/RiceDiseaseDataset/validation/BrownSpot_vs_Healthy'\n",
    "\n",
    "validate_brownspot_ds = tf.keras.preprocessing.image_dataset_from_directory(\n",
    "    brown_spot_dir,\n",
    "    seed=123,\n",
    "    image_size=IMG_SIZE,\n",
    "    label_mode='binary'\n",
    ")"
   ]
  },
  {
   "cell_type": "code",
   "execution_count": 31,
   "id": "10c5a002",
   "metadata": {},
   "outputs": [
    {
     "name": "stdout",
     "output_type": "stream",
     "text": [
      "Found 246 files belonging to 2 classes.\n"
     ]
    }
   ],
   "source": [
    "# Validation Dataset for Hispa vs Healthy\n",
    "hispa_dir = 'datasets/RiceDiseaseDataset/validation/Hispa_vs_Healthy'\n",
    "\n",
    "validate_hispa_ds = tf.keras.preprocessing.image_dataset_from_directory(\n",
    "    hispa_dir,\n",
    "    seed=123,\n",
    "    image_size=IMG_SIZE,\n",
    "    label_mode='binary'\n",
    ")"
   ]
  },
  {
   "cell_type": "code",
   "execution_count": 32,
   "id": "9383830e",
   "metadata": {},
   "outputs": [
    {
     "name": "stdout",
     "output_type": "stream",
     "text": [
      "Found 246 files belonging to 2 classes.\n"
     ]
    }
   ],
   "source": [
    "# Validation Dataset for Leaf Blast vs Healthy\n",
    "leafblast_dir = 'datasets/RiceDiseaseDataset/validation/LeafBlast_vs_Healthy'\n",
    "\n",
    "validate_leafblast_ds = tf.keras.preprocessing.image_dataset_from_directory(\n",
    "    leafblast_dir,\n",
    "    seed=123,\n",
    "    image_size=IMG_SIZE,\n",
    "    label_mode='binary'\n",
    ")"
   ]
  },
  {
   "cell_type": "code",
   "execution_count": 33,
   "id": "02e06e33",
   "metadata": {},
   "outputs": [
    {
     "name": "stdout",
     "output_type": "stream",
     "text": [
      "8/8 [==============================] - 37s 3s/step - loss: 0.3870 - accuracy: 0.8577\n"
     ]
    },
    {
     "data": {
      "text/plain": [
       "[0.3869836926460266, 0.857723593711853]"
      ]
     },
     "execution_count": 33,
     "metadata": {},
     "output_type": "execute_result"
    }
   ],
   "source": [
    "# Validate the brown spot dataset\n",
    "brownspot_model.evaluate(validate_brownspot_ds)"
   ]
  },
  {
   "cell_type": "code",
   "execution_count": 34,
   "id": "0c35e822",
   "metadata": {},
   "outputs": [
    {
     "name": "stdout",
     "output_type": "stream",
     "text": [
      "8/8 [==============================] - 38s 3s/step - loss: 0.6221 - accuracy: 0.7236\n"
     ]
    },
    {
     "data": {
      "text/plain": [
       "[0.6220645904541016, 0.7235772609710693]"
      ]
     },
     "execution_count": 34,
     "metadata": {},
     "output_type": "execute_result"
    }
   ],
   "source": [
    "# Validate the hispa dataset\n",
    "hispa_model.evaluate(validate_hispa_ds)"
   ]
  },
  {
   "cell_type": "code",
   "execution_count": 36,
   "id": "132f65b6",
   "metadata": {
    "scrolled": true
   },
   "outputs": [
    {
     "name": "stdout",
     "output_type": "stream",
     "text": [
      "8/8 [==============================] - 34s 3s/step - loss: 0.5901 - accuracy: 0.7317\n"
     ]
    },
    {
     "data": {
      "text/plain": [
       "[0.5901477336883545, 0.7317073345184326]"
      ]
     },
     "execution_count": 36,
     "metadata": {},
     "output_type": "execute_result"
    }
   ],
   "source": [
    "# Validate the Leaf Blast dataset\n",
    "leafblast_model.evaluate(validate_leafblast_ds)"
   ]
  },
  {
   "cell_type": "code",
   "execution_count": 71,
   "id": "4a2b2a92",
   "metadata": {},
   "outputs": [
    {
     "name": "stderr",
     "output_type": "stream",
     "text": [
      "D:\\My Desktop\\Programming\\Projects\\MachineLearning\\venv\\lib\\site-packages\\tensorflow\\python\\keras\\utils\\generic_utils.py:494: CustomMaskWarning: Custom mask layers require a config and must override get_config. When loading, the custom mask layer must be passed to the custom_objects argument.\n",
      "  warnings.warn('Custom mask layers require a config and must override '\n"
     ]
    },
    {
     "name": "stdout",
     "output_type": "stream",
     "text": [
      "INFO:tensorflow:Assets written to: trained_models/tfpb\\assets\n"
     ]
    }
   ],
   "source": [
    "brownspot_model.save('trained_models/SavedModel/um_brownspot_model')"
   ]
  },
  {
   "cell_type": "markdown",
   "id": "4f0e1f19",
   "metadata": {},
   "source": [
    "<br>\n",
    "\n",
    "---\n",
    "\n",
    "## 5.0 - Convert to Tensorflow.js Compatible\n",
    "\n",
    "---\n",
    "<br>"
   ]
  },
  {
   "cell_type": "markdown",
   "id": "764f19ae",
   "metadata": {},
   "source": [
    "#### Reference:\n",
    "\n",
    "[Keras to Tensorflow.js Video](https://www.youtube.com/watch?v=f8ed_xAjkOg)\n",
    "\n",
    "\n",
    "[Importing a Keras model into TensorFlow.js](https://www.tensorflow.org/js/tutorials/conversion/import_keras)"
   ]
  },
  {
   "cell_type": "code",
   "execution_count": 38,
   "id": "d6e15464",
   "metadata": {},
   "outputs": [
    {
     "name": "stdout",
     "output_type": "stream",
     "text": [
      "Microsoft Windows [Version 10.0.19042.1110]\r\n",
      "(c) Microsoft Corporation. All rights reserved.\r\n",
      "\r\n",
      "(venv) D:\\My Desktop\\Programming\\Projects\\MachineLearning>pip install tensorflowjs\n",
      "Collecting tensorflowjs\r\n",
      "  Downloading tensorflowjs-3.8.0-py3-none-any.whl (64 kB)\r\n",
      "Requirement already satisfied: six<2,>=1.12.0 in d:\\my desktop\\programming\\projects\\machinelearning\\venv\\lib\\site-packages (from tensorflowjs) (1.15.0)\r\n",
      "Collecting tensorflow-hub<0.13,>=0.7.0\r\n",
      "  Downloading tensorflow_hub-0.12.0-py2.py3-none-any.whl (108 kB)\r\n",
      "Requirement already satisfied: tensorflow<3,>=2.1.0 in d:\\my desktop\\programming\\projects\\machinelearning\\venv\\lib\\site-packages (from tensorflowjs) (2.5.0)\r\n",
      "Requirement already satisfied: numpy~=1.19.2 in d:\\my desktop\\programming\\projects\\machinelearning\\venv\\lib\\site-packages (from tensorflow<3,>=2.1.0->tensorflowjs) (1.19.5)\r\n",
      "Requirement already satisfied: tensorboard~=2.5 in d:\\my desktop\\programming\\projects\\machinelearning\\venv\\lib\\site-packages (from tensorflow<3,>=2.1.0->tensorflowjs) (2.5.0)\r\n",
      "Requirement already satisfied: keras-nightly~=2.5.0.dev in d:\\my desktop\\programming\\projects\\machinelearning\\venv\\lib\\site-packages (from tensorflow<3,>=2.1.0->tensorflowjs) (2.5.0.dev2021032900)\r\n",
      "Requirement already satisfied: gast==0.4.0 in d:\\my desktop\\programming\\projects\\machinelearning\\venv\\lib\\site-packages (from tensorflow<3,>=2.1.0->tensorflowjs) (0.4.0)\r\n",
      "Requirement already satisfied: protobuf>=3.9.2 in d:\\my desktop\\programming\\projects\\machinelearning\\venv\\lib\\site-packages (from tensorflow<3,>=2.1.0->tensorflowjs) (3.17.3)\r\n",
      "Requirement already satisfied: absl-py~=0.10 in d:\\my desktop\\programming\\projects\\machinelearning\\venv\\lib\\site-packages (from tensorflow<3,>=2.1.0->tensorflowjs) (0.12.0)\r\n",
      "Requirement already satisfied: wrapt~=1.12.1 in d:\\my desktop\\programming\\projects\\machinelearning\\venv\\lib\\site-packages (from tensorflow<3,>=2.1.0->tensorflowjs) (1.12.1)\r\n",
      "Requirement already satisfied: wheel~=0.35 in d:\\my desktop\\programming\\projects\\machinelearning\\venv\\lib\\site-packages (from tensorflow<3,>=2.1.0->tensorflowjs) (0.36.2)\r\n",
      "Requirement already satisfied: grpcio~=1.34.0 in d:\\my desktop\\programming\\projects\\machinelearning\\venv\\lib\\site-packages (from tensorflow<3,>=2.1.0->tensorflowjs) (1.34.1)\r\n",
      "Requirement already satisfied: typing-extensions~=3.7.4 in d:\\my desktop\\programming\\projects\\machinelearning\\venv\\lib\\site-packages (from tensorflow<3,>=2.1.0->tensorflowjs) (3.7.4.3)\r\n",
      "Requirement already satisfied: google-pasta~=0.2 in d:\\my desktop\\programming\\projects\\machinelearning\\venv\\lib\\site-packages (from tensorflow<3,>=2.1.0->tensorflowjs) (0.2.0)\r\n",
      "Requirement already satisfied: astunparse~=1.6.3 in d:\\my desktop\\programming\\projects\\machinelearning\\venv\\lib\\site-packages (from tensorflow<3,>=2.1.0->tensorflowjs) (1.6.3)\r\n",
      "Requirement already satisfied: flatbuffers~=1.12.0 in d:\\my desktop\\programming\\projects\\machinelearning\\venv\\lib\\site-packages (from tensorflow<3,>=2.1.0->tensorflowjs) (1.12)\r\n",
      "Requirement already satisfied: opt-einsum~=3.3.0 in d:\\my desktop\\programming\\projects\\machinelearning\\venv\\lib\\site-packages (from tensorflow<3,>=2.1.0->tensorflowjs) (3.3.0)\r\n",
      "Requirement already satisfied: termcolor~=1.1.0 in d:\\my desktop\\programming\\projects\\machinelearning\\venv\\lib\\site-packages (from tensorflow<3,>=2.1.0->tensorflowjs) (1.1.0)\r\n",
      "Requirement already satisfied: h5py~=3.1.0 in d:\\my desktop\\programming\\projects\\machinelearning\\venv\\lib\\site-packages (from tensorflow<3,>=2.1.0->tensorflowjs) (3.1.0)\r\n",
      "Requirement already satisfied: keras-preprocessing~=1.1.2 in d:\\my desktop\\programming\\projects\\machinelearning\\venv\\lib\\site-packages (from tensorflow<3,>=2.1.0->tensorflowjs) (1.1.2)\r\n",
      "Requirement already satisfied: tensorflow-estimator<2.6.0,>=2.5.0rc0 in d:\\my desktop\\programming\\projects\\machinelearning\\venv\\lib\\site-packages (from tensorflow<3,>=2.1.0->tensorflowjs) (2.5.0)\r\n",
      "Requirement already satisfied: setuptools>=41.0.0 in d:\\my desktop\\programming\\projects\\machinelearning\\venv\\lib\\site-packages (from tensorboard~=2.5->tensorflow<3,>=2.1.0->tensorflowjs) (57.4.0)\r\n",
      "Requirement already satisfied: google-auth<2,>=1.6.3 in d:\\my desktop\\programming\\projects\\machinelearning\\venv\\lib\\site-packages (from tensorboard~=2.5->tensorflow<3,>=2.1.0->tensorflowjs) (1.34.0)\r\n",
      "Requirement already satisfied: werkzeug>=0.11.15 in d:\\my desktop\\programming\\projects\\machinelearning\\venv\\lib\\site-packages (from tensorboard~=2.5->tensorflow<3,>=2.1.0->tensorflowjs) (2.0.1)\r\n",
      "Requirement already satisfied: tensorboard-data-server<0.7.0,>=0.6.0 in d:\\my desktop\\programming\\projects\\machinelearning\\venv\\lib\\site-packages (from tensorboard~=2.5->tensorflow<3,>=2.1.0->tensorflowjs) (0.6.1)\r\n",
      "Requirement already satisfied: tensorboard-plugin-wit>=1.6.0 in d:\\my desktop\\programming\\projects\\machinelearning\\venv\\lib\\site-packages (from tensorboard~=2.5->tensorflow<3,>=2.1.0->tensorflowjs) (1.8.0)\r\n",
      "Requirement already satisfied: requests<3,>=2.21.0 in d:\\my desktop\\programming\\projects\\machinelearning\\venv\\lib\\site-packages (from tensorboard~=2.5->tensorflow<3,>=2.1.0->tensorflowjs) (2.26.0)\r\n",
      "Requirement already satisfied: google-auth-oauthlib<0.5,>=0.4.1 in d:\\my desktop\\programming\\projects\\machinelearning\\venv\\lib\\site-packages (from tensorboard~=2.5->tensorflow<3,>=2.1.0->tensorflowjs) (0.4.5)\r\n",
      "Requirement already satisfied: markdown>=2.6.8 in d:\\my desktop\\programming\\projects\\machinelearning\\venv\\lib\\site-packages (from tensorboard~=2.5->tensorflow<3,>=2.1.0->tensorflowjs) (3.3.4)\r\n",
      "Requirement already satisfied: pyasn1-modules>=0.2.1 in d:\\my desktop\\programming\\projects\\machinelearning\\venv\\lib\\site-packages (from google-auth<2,>=1.6.3->tensorboard~=2.5->tensorflow<3,>=2.1.0->tensorflowjs) (0.2.8)\r\n",
      "Requirement already satisfied: rsa<5,>=3.1.4 in d:\\my desktop\\programming\\projects\\machinelearning\\venv\\lib\\site-packages (from google-auth<2,>=1.6.3->tensorboard~=2.5->tensorflow<3,>=2.1.0->tensorflowjs) (4.7.2)\r\n",
      "Requirement already satisfied: cachetools<5.0,>=2.0.0 in d:\\my desktop\\programming\\projects\\machinelearning\\venv\\lib\\site-packages (from google-auth<2,>=1.6.3->tensorboard~=2.5->tensorflow<3,>=2.1.0->tensorflowjs) (4.2.2)\r\n",
      "Requirement already satisfied: requests-oauthlib>=0.7.0 in d:\\my desktop\\programming\\projects\\machinelearning\\venv\\lib\\site-packages (from google-auth-oauthlib<0.5,>=0.4.1->tensorboard~=2.5->tensorflow<3,>=2.1.0->tensorflowjs) (1.3.0)\r\n",
      "Requirement already satisfied: pyasn1<0.5.0,>=0.4.6 in d:\\my desktop\\programming\\projects\\machinelearning\\venv\\lib\\site-packages (from pyasn1-modules>=0.2.1->google-auth<2,>=1.6.3->tensorboard~=2.5->tensorflow<3,>=2.1.0->tensorflowjs) (0.4.8)\r\n",
      "Requirement already satisfied: charset-normalizer~=2.0.0 in d:\\my desktop\\programming\\projects\\machinelearning\\venv\\lib\\site-packages (from requests<3,>=2.21.0->tensorboard~=2.5->tensorflow<3,>=2.1.0->tensorflowjs) (2.0.4)\r\n",
      "Requirement already satisfied: idna<4,>=2.5 in d:\\my desktop\\programming\\projects\\machinelearning\\venv\\lib\\site-packages (from requests<3,>=2.21.0->tensorboard~=2.5->tensorflow<3,>=2.1.0->tensorflowjs) (3.2)\r\n",
      "Requirement already satisfied: certifi>=2017.4.17 in d:\\my desktop\\programming\\projects\\machinelearning\\venv\\lib\\site-packages (from requests<3,>=2.21.0->tensorboard~=2.5->tensorflow<3,>=2.1.0->tensorflowjs) (2021.5.30)\r\n",
      "Requirement already satisfied: urllib3<1.27,>=1.21.1 in d:\\my desktop\\programming\\projects\\machinelearning\\venv\\lib\\site-packages (from requests<3,>=2.21.0->tensorboard~=2.5->tensorflow<3,>=2.1.0->tensorflowjs) (1.26.6)\r\n",
      "Requirement already satisfied: oauthlib>=3.0.0 in d:\\my desktop\\programming\\projects\\machinelearning\\venv\\lib\\site-packages (from requests-oauthlib>=0.7.0->google-auth-oauthlib<0.5,>=0.4.1->tensorboard~=2.5->tensorflow<3,>=2.1.0->tensorflowjs) (3.1.1)\r\n",
      "Installing collected packages: tensorflow-hub, tensorflowjs\r\n",
      "Successfully installed tensorflow-hub-0.12.0 tensorflowjs-3.8.0\r\n",
      "\r\n",
      "(venv) D:\\My Desktop\\Programming\\Projects\\MachineLearning>"
     ]
    }
   ],
   "source": [
    "%%cmd\n",
    "pip install tensorflowjs"
   ]
  },
  {
   "cell_type": "code",
   "execution_count": 47,
   "id": "bab7abc2",
   "metadata": {},
   "outputs": [],
   "source": [
    "import tensorflowjs as tfjs"
   ]
  },
  {
   "cell_type": "code",
   "execution_count": 66,
   "id": "c1e2a2c9",
   "metadata": {
    "scrolled": true
   },
   "outputs": [
    {
     "data": {
      "text/plain": [
       "('model',\n",
       " 'artifacts_dir',\n",
       " 'quantization_dtype_map',\n",
       " 'weight_shard_size_bytes',\n",
       " 'metadata',\n",
       " 'temp_h5_path',\n",
       " 'topology_json',\n",
       " 'weight_groups')"
      ]
     },
     "execution_count": 66,
     "metadata": {},
     "output_type": "execute_result"
    }
   ],
   "source": [
    "tfjs.converters.save_keras_model.__code__.co_varnames"
   ]
  },
  {
   "cell_type": "code",
   "execution_count": 72,
   "id": "2747277a",
   "metadata": {},
   "outputs": [
    {
     "name": "stderr",
     "output_type": "stream",
     "text": [
      "2021-08-04 23:25:03.541748: W tensorflow/stream_executor/platform/default/dso_loader.cc:64] Could not load dynamic library 'cudart64_110.dll'; dlerror: cudart64_110.dll not found\n",
      "2021-08-04 23:25:03.541788: I tensorflow/stream_executor/cuda/cudart_stub.cc:29] Ignore above cudart dlerror if you do not have a GPU set up on your machine.\n"
     ]
    }
   ],
   "source": [
    "!tensorflowjs_converter --input_format=keras --output_format=tfjs_layers_model trained_models/um_brownspot_model.h5 trained_models/TensorflowJS/um_brownspot_model "
   ]
  },
  {
   "cell_type": "code",
   "execution_count": 51,
   "id": "27a0cae4",
   "metadata": {
    "scrolled": true
   },
   "outputs": [
    {
     "name": "stderr",
     "output_type": "stream",
     "text": [
      "D:\\My Desktop\\Programming\\Projects\\MachineLearning\\venv\\lib\\site-packages\\tensorflow\\python\\keras\\utils\\generic_utils.py:494: CustomMaskWarning: Custom mask layers require a config and must override get_config. When loading, the custom mask layer must be passed to the custom_objects argument.\n",
      "  warnings.warn('Custom mask layers require a config and must override '\n"
     ]
    }
   ],
   "source": [
    "BROWNSPOT_MODELJS_SAVEDIR = 'trained_models/TensorflowJS/um_brownspot_model'\n",
    "\n",
    "tfjs.converters.save_keras_model( brownspot_model, BROWNSPOT_MODELJS_SAVEDIR)"
   ]
  },
  {
   "cell_type": "code",
   "execution_count": 52,
   "id": "5854685f",
   "metadata": {},
   "outputs": [],
   "source": [
    "HISPA_MODELJS_SAVEDIR = 'trained_models/TensorflowJS/um_hispa_model'\n",
    "\n",
    "tfjs.converters.save_keras_model( hispa_model, HISPA_MODELJS_SAVEDIR)"
   ]
  },
  {
   "cell_type": "code",
   "execution_count": 53,
   "id": "98d305c4",
   "metadata": {},
   "outputs": [],
   "source": [
    "LEAFBLAST_MODELJS_SAVEDIR = 'trained_models/TensorflowJS/um_leafblast_model'\n",
    "\n",
    "tfjs.converters.save_keras_model( leafblast_model, LEAFBLAST_MODELJS_SAVEDIR)"
   ]
  }
 ],
 "metadata": {
  "kernelspec": {
   "display_name": "Python 3 (ipykernel)",
   "language": "python",
   "name": "python3"
  },
  "language_info": {
   "codemirror_mode": {
    "name": "ipython",
    "version": 3
   },
   "file_extension": ".py",
   "mimetype": "text/x-python",
   "name": "python",
   "nbconvert_exporter": "python",
   "pygments_lexer": "ipython3",
   "version": "3.9.6"
  }
 },
 "nbformat": 4,
 "nbformat_minor": 5
}
