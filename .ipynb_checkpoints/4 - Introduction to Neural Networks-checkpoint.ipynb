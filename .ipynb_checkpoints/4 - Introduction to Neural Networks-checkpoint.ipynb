{
 "cells": [
  {
   "cell_type": "markdown",
   "id": "1be802ff",
   "metadata": {},
   "source": [
    "<br>\n",
    "\n",
    "---\n",
    "\n",
    "# 4 - Introduction to Neural Networks\n",
    "\n",
    "---\n",
    "<br>\n",
    "\n",
    "Neural networks consist of an __input layer__, one or more __hidden layers__ and __output layer__.\n",
    "\n",
    "Usually, the amount of tensors in input layer matches exactly how many input you'll need. Say an image of size 10x10, then you would need 100 input tensors for that, one for each pixel"
   ]
  },
  {
   "cell_type": "markdown",
   "id": "528ef916",
   "metadata": {},
   "source": [
    "<br>\n",
    "\n",
    "---\n",
    "\n",
    "## 1.0 - Importing Modules\n",
    "\n",
    "---\n",
    "<br>"
   ]
  },
  {
   "cell_type": "code",
   "execution_count": 2,
   "id": "7dda3182",
   "metadata": {},
   "outputs": [],
   "source": [
    "# Core Machine learning libraries\n",
    "import tensorflow as tf\n",
    "from tensorflow import keras\n",
    "\n",
    "# Helper libraries\n",
    "import numpy as np\n",
    "import matplotlib.pyplot as plt"
   ]
  },
  {
   "cell_type": "markdown",
   "id": "225a9210",
   "metadata": {},
   "source": [
    "<br>\n",
    "\n",
    "---\n",
    "\n",
    "## 2.0 - Datasets\n",
    "\n",
    "---\n",
    "<br>\n",
    "\n",
    "For this tutorial, the dataset that will be used is the MNIST Fashion Dataset, which is included in keras. It includes 60000 fashion item images sized 28 x 28 for training, and 10000 images for validation / testing.\n",
    "\n",
    "Note that those images come in the form of `numpy.ndarray`, of size (28,28)"
   ]
  },
  {
   "cell_type": "code",
   "execution_count": 3,
   "id": "35a983ef",
   "metadata": {
    "scrolled": true
   },
   "outputs": [
    {
     "name": "stdout",
     "output_type": "stream",
     "text": [
      "Downloading data from https://storage.googleapis.com/tensorflow/tf-keras-datasets/train-labels-idx1-ubyte.gz\n",
      "32768/29515 [=================================] - 0s 0us/step\n",
      "Downloading data from https://storage.googleapis.com/tensorflow/tf-keras-datasets/train-images-idx3-ubyte.gz\n",
      "26427392/26421880 [==============================] - 5s 0us/step\n",
      "Downloading data from https://storage.googleapis.com/tensorflow/tf-keras-datasets/t10k-labels-idx1-ubyte.gz\n",
      "8192/5148 [===============================================] - 0s 0us/step\n",
      "Downloading data from https://storage.googleapis.com/tensorflow/tf-keras-datasets/t10k-images-idx3-ubyte.gz\n",
      "4423680/4422102 [==============================] - 1s 0us/step\n"
     ]
    }
   ],
   "source": [
    "# Download and load the datasets\n",
    "fashion_mnist = keras.datasets.fashion_mnist\n",
    "\n",
    "(train_images, train_labels), (test_images, test_labels) = fashion_mnist.load_data() "
   ]
  },
  {
   "cell_type": "code",
   "execution_count": 4,
   "id": "d16cef82",
   "metadata": {},
   "outputs": [
    {
     "name": "stdout",
     "output_type": "stream",
     "text": [
      "There are 60000 training data\n",
      "There are 10000 testing data\n",
      "The images are (28, 28) in size \n",
      "The pixel value ranges from 0 to 255\n",
      "The label's unique values are {0, 1, 2, 3, 4, 5, 6, 7, 8, 9}, meaning 10 classes to classify \n"
     ]
    }
   ],
   "source": [
    "# General information: How many images are there? What is the size of images?\n",
    "print( f\"There are { len(train_images) } training data\" )\n",
    "print( f\"There are { len(test_images) } testing data\")\n",
    "print( f\"The images are { train_images[0].shape } in size \")\n",
    "print( f\"The pixel value ranges from { train_images[0].min() } to { train_images[0].max() }\")\n",
    "print( f\"The label's unique values are { set(test_labels) }, meaning { len(set(test_labels) ) } classes to classify \")"
   ]
  },
  {
   "cell_type": "code",
   "execution_count": 5,
   "id": "0641ccfe",
   "metadata": {},
   "outputs": [],
   "source": [
    "# The Classes by index doesn't make sense. Let's create an array that describes what those classes are actually\n",
    "class_names = ['T-shirt/top', 'Trouser', 'Pullover', 'Dress', 'Coat', \n",
    "               'Sandal', 'Shirt', 'Sneaker', 'Bag', 'Ankle Boot']"
   ]
  },
  {
   "cell_type": "code",
   "execution_count": 7,
   "id": "e9e9caa4",
   "metadata": {},
   "outputs": [
    {
     "name": "stdout",
     "output_type": "stream",
     "text": [
      "Enter 0 to 59999 to see images: 312\n"
     ]
    },
    {
     "data": {
      "image/png": "[encoded data removed]",
      "text/plain": [
       "<Figure size 432x288 with 1 Axes>"
      ]
     },
     "metadata": {
      "needs_background": "light"
     },
     "output_type": "display_data"
    },
    {
     "name": "stdout",
     "output_type": "stream",
     "text": [
      "It is a Coat\n"
     ]
    }
   ],
   "source": [
    "# Let's peek at some of the images\n",
    "# We'll let user to pick the image.\n",
    "plt.figure()\n",
    "\n",
    "id = 0\n",
    "while True:\n",
    "  id = input(\"Enter 0 to 59999 to see images: \")\n",
    "\n",
    "  if id.isdigit() and 0 <= int(id) < 60000:\n",
    "    id = int(id)\n",
    "    break\n",
    "  print(\"Invalid Number! Must be between 0 to 59999\")\n",
    "\n",
    "\n",
    "\n",
    "plt.imshow( train_images[id] )\n",
    "\n",
    "plt.show()\n",
    "print(\"It is a\", class_names[ train_labels[id] ] )"
   ]
  },
  {
   "cell_type": "markdown",
   "id": "f9636317",
   "metadata": {},
   "source": [
    "<br>\n",
    "\n",
    "---\n",
    "\n",
    "## 3.0 - Data Preprocessing\n",
    "\n",
    "---\n",
    "<br>\n",
    "\n",
    "Data Preprocessing is important so that we don't throw in junk datas into our machine learning model. In this case the data is clean, but we can do a little optimization to make it easier to train.\n",
    "\n",
    "The Pixel values are between 0 to 255. Preferrably, we want it to only be between 0 to 1 because that is the nature value of the machine learning process."
   ]
  },
  {
   "cell_type": "code",
   "execution_count": 12,
   "id": "d3983b17",
   "metadata": {},
   "outputs": [],
   "source": [
    "train_images = train_images / 255.0\n",
    "test_images = test_images / 255.0"
   ]
  },
  {
   "cell_type": "markdown",
   "id": "86ef51b9",
   "metadata": {},
   "source": [
    "<br>\n",
    "\n",
    "---\n",
    "\n",
    "## 4.0 - Building The Model\n",
    "\n",
    "---\n",
    "<br>\n",
    "\n",
    "The model that we will use here is, of course, Neural networks. The module responsible for this is the keras submodule in tensorflow.\n",
    "\n",
    "\n",
    "In this case, the whole model is based off keras.Sequential. Sequential means that one layer follows another, like input layer > hidden layers > output layers.\n",
    "\n",
    "\n",
    "After building the model, we need to compile the model, specifying the optimizer function, loss function as well as the metrics we are going to obtain.\n",
    "\n",
    "\n",
    "In this example, the hidden layers we choose is simply __Dense Convolutional Layer__, which means all nodes/tensors are connected to __all__ the nodes in the next layer"
   ]
  },
  {
   "cell_type": "code",
   "execution_count": 13,
   "id": "db29e6ee",
   "metadata": {},
   "outputs": [],
   "source": [
    "classification_model = keras.Sequential([         # Takes in an array of layers\n",
    "  keras.layers.Flatten( input_shape=(28,28) ),    # Flattens the input into one dimensional. In our case 28x28 image is flattened to 784 input tensors                                         \n",
    "  keras.layers.Dense(128, activation='relu'),     # Dense layer with 128 tensors. Activation function is Rectified Linear Unit\n",
    "  keras.layers.Dense(10, activation='softmax')    # Dense layer with 10 tensors. Makes sense because we are having 10 classes to classify here\n",
    "])"
   ]
  },
  {
   "cell_type": "code",
   "execution_count": 14,
   "id": "39dcbdde",
   "metadata": {},
   "outputs": [],
   "source": [
    "# Once the layers are set, we have to compile our model before actually using it\n",
    "classification_model.compile(\n",
    "    optimizer='adam',                             # An optimizer function that uses gradient descent\n",
    "    loss='sparse_categorical_crossentropy',       # Loss function\n",
    "    metrics=['accuracy']\n",
    ")\n"
   ]
  },
  {
   "cell_type": "markdown",
   "id": "531fcc9b",
   "metadata": {},
   "source": [
    "<br>\n",
    "\n",
    "---\n",
    "\n",
    "## 5.0 - Train The Model\n",
    "\n",
    "---\n",
    "<br>\n",
    "\n",
    "Fortunately, `keras` automatically handles the input function for us."
   ]
  },
  {
   "cell_type": "code",
   "execution_count": 15,
   "id": "03e13c3b",
   "metadata": {},
   "outputs": [
    {
     "name": "stdout",
     "output_type": "stream",
     "text": [
      "Epoch 1/8\n",
      "1875/1875 [==============================] - 2s 991us/step - loss: 0.4913 - accuracy: 0.8262\n",
      "Epoch 2/8\n",
      "1875/1875 [==============================] - 2s 904us/step - loss: 0.3715 - accuracy: 0.8656\n",
      "Epoch 3/8\n",
      "1875/1875 [==============================] - 2s 929us/step - loss: 0.3352 - accuracy: 0.8781\n",
      "Epoch 4/8\n",
      "1875/1875 [==============================] - 2s 893us/step - loss: 0.3099 - accuracy: 0.8869\n",
      "Epoch 5/8\n",
      "1875/1875 [==============================] - 2s 917us/step - loss: 0.2911 - accuracy: 0.8927\n",
      "Epoch 6/8\n",
      "1875/1875 [==============================] - 2s 1ms/step - loss: 0.2778 - accuracy: 0.8968\n",
      "Epoch 7/8\n",
      "1875/1875 [==============================] - 2s 955us/step - loss: 0.2657 - accuracy: 0.9018\n",
      "Epoch 8/8\n",
      "1875/1875 [==============================] - 2s 895us/step - loss: 0.2555 - accuracy: 0.9041\n"
     ]
    },
    {
     "data": {
      "text/plain": [
       "<tensorflow.python.keras.callbacks.History at 0x2ba56c480d0>"
      ]
     },
     "execution_count": 15,
     "metadata": {},
     "output_type": "execute_result"
    }
   ],
   "source": [
    "# Give training images, training labels and number of epochs\n",
    "classification_model.fit( train_images, train_labels, epochs=8 )"
   ]
  },
  {
   "cell_type": "markdown",
   "id": "e21b0d1d",
   "metadata": {},
   "source": [
    "<br>\n",
    "\n",
    "---\n",
    "\n",
    "## 6.0 - Evaluating our Model\n",
    "\n",
    "---\n",
    "<br>\n",
    "\n",
    "From the epochs output above, we see the accuracy falls around 80%. How do we know if it is not overfitted? Use test data which the model never seen before!"
   ]
  },
  {
   "cell_type": "code",
   "execution_count": 19,
   "id": "937e5b08",
   "metadata": {},
   "outputs": [
    {
     "name": "stdout",
     "output_type": "stream",
     "text": [
      "313/313 [==============================] - 0s 695us/step - loss: 0.3461 - accuracy: 0.8803\n",
      "The test is done with accuracy: 0.880299985408783\n"
     ]
    }
   ],
   "source": [
    "test_loss, test_acc = classification_model.evaluate(test_images, test_labels, verbose=True)\n",
    "\n",
    "print( f\"The test is done with accuracy: {test_acc}\")"
   ]
  },
  {
   "cell_type": "markdown",
   "id": "bae45ca0",
   "metadata": {},
   "source": [
    "<br>\n",
    "\n",
    "---\n",
    "\n",
    "## 7.0 - Making Predictions\n",
    "\n",
    "---\n",
    "<br>"
   ]
  },
  {
   "cell_type": "code",
   "execution_count": 21,
   "id": "19d9af67",
   "metadata": {},
   "outputs": [
    {
     "data": {
      "text/plain": [
       "array([5.6749235e-07, 4.8150534e-10, 1.3643842e-07, 3.7579618e-08,\n",
       "       6.6462185e-08, 3.1779642e-04, 1.5869067e-06, 3.2580860e-02,\n",
       "       8.1223197e-07, 9.6709812e-01], dtype=float32)"
      ]
     },
     "execution_count": 21,
     "metadata": {},
     "output_type": "execute_result"
    }
   ],
   "source": [
    "# We can just use our model to start making predictions. It will return all the output values for all 10 output tensors\n",
    "# The output shall be array of size 10, each one representing the probability that the image is in corresponding classes \n",
    "predictions = classification_model.predict( test_images )\n",
    "\n",
    "predictions[0]\n",
    "# The class predicted will have the closest value to 1"
   ]
  },
  {
   "cell_type": "code",
   "execution_count": 22,
   "id": "ca68d9b0",
   "metadata": {},
   "outputs": [
    {
     "data": {
      "text/plain": [
       "9"
      ]
     },
     "execution_count": 22,
     "metadata": {},
     "output_type": "execute_result"
    }
   ],
   "source": [
    "# Instead of looking at all the probabilities, let's take out the maximum value via numpy.argmax()\n",
    "# it will return the index of largest value\n",
    "np.argmax(predictions[0])"
   ]
  },
  {
   "cell_type": "code",
   "execution_count": 23,
   "id": "df4e4720",
   "metadata": {},
   "outputs": [
    {
     "name": "stdout",
     "output_type": "stream",
     "text": [
      "Enter the image to predict (0-9999): 123\n",
      "The image to predict:\n"
     ]
    },
    {
     "data": {
      "image/png": "[encoded data removed]",
      "text/plain": [
       "<Figure size 432x288 with 1 Axes>"
      ]
     },
     "metadata": {
      "needs_background": "light"
     },
     "output_type": "display_data"
    },
    {
     "name": "stdout",
     "output_type": "stream",
     "text": [
      "The predicted class is: Ankle Boot\n",
      "The correct answer is: Ankle Boot \n"
     ]
    }
   ],
   "source": [
    "# Therefore let's get user input to select what they want to predict!\n",
    "\n",
    "\n",
    "id = 0\n",
    "while True:\n",
    "  id = input(\"Enter the image to predict (0-9999): \")\n",
    "\n",
    "  if id.isdigit() and 0 <= int(id) < 10000:\n",
    "    id = int(id)\n",
    "    break\n",
    "  print(\"Invalid id! Retry\")\n",
    "\n",
    "\n",
    "\n",
    "print(\"The image to predict:\")\n",
    "plt.figure()\n",
    "plt.imshow( test_images[id] )\n",
    "plt.show()\n",
    "\n",
    "predictions = classification_model.predict( np.array([test_images[id]]) )\n",
    "\n",
    "print( f\"The predicted class is: { class_names[ np.argmax(predictions[0] ) ] }\" )\n",
    "print( f\"The correct answer is: { class_names[ test_labels[id] ] } \")\n",
    "\n"
   ]
  },
  {
   "cell_type": "markdown",
   "id": "af9eeea8",
   "metadata": {},
   "source": [
    "<br>\n",
    "\n",
    "---\n",
    "\n",
    "## 8.0 - Saving Model and Loading Model\n",
    "\n",
    "---\n",
    "<br>\n",
    "\n",
    "If our dataset is more complex, training the model certainly may take minutes or even hours! With our model trained, we don't want to train it again once we restarted our application! This is where we shall save our model into file format\n",
    "\n",
    "\n",
    "In this example where our model is of type `tensorflow.python.keras.engine.sequential.Sequential`, simply call the `save()` function. Documentation [__HERE__](https://www.tensorflow.org/api_docs/python/tf/keras/Sequential#save)\n",
    "\n",
    "<br>\n",
    "\n",
    "---\n",
    "<br>\n",
    "\n",
    "When we want to load up our model, use `load_model()` function from `keras.models`"
   ]
  },
  {
   "cell_type": "code",
   "execution_count": 27,
   "id": "29884616",
   "metadata": {},
   "outputs": [],
   "source": [
    "# Saving our model\n",
    "# The function signature is:\n",
    "# save(\n",
    "#    filepath, overwrite=True, include_optimizer=True, save_format=None,\n",
    "#    signatures=None, options=None, save_traces=True\n",
    "# )\n",
    "\n",
    "FILEPATH = 'trained_models/4_Introduction_To_Neural_Networks.h5'\n",
    "\n",
    "classification_model.save( FILEPATH )"
   ]
  },
  {
   "cell_type": "code",
   "execution_count": 28,
   "id": "7777d6a1",
   "metadata": {},
   "outputs": [],
   "source": [
    "# Loading our model\n",
    "loaded_model = tf.keras.models.load_model( FILEPATH )"
   ]
  },
  {
   "cell_type": "code",
   "execution_count": 30,
   "id": "7c6308b4",
   "metadata": {},
   "outputs": [
    {
     "data": {
      "text/plain": [
       "array([5.6749235e-07, 4.8150534e-10, 1.3643842e-07, 3.7579618e-08,\n",
       "       6.6462185e-08, 3.1779642e-04, 1.5869067e-06, 3.2580860e-02,\n",
       "       8.1223197e-07, 9.6709812e-01], dtype=float32)"
      ]
     },
     "execution_count": 30,
     "metadata": {},
     "output_type": "execute_result"
    }
   ],
   "source": [
    "# To prove it is the exact same model, let's test if the values are of the same:\n",
    "predictions = loaded_model.predict( test_images )\n",
    "predictions[0]"
   ]
  },
  {
   "cell_type": "code",
   "execution_count": null,
   "id": "e05519ca",
   "metadata": {},
   "outputs": [],
   "source": []
  }
 ],
 "metadata": {
  "kernelspec": {
   "display_name": "Python 3 (ipykernel)",
   "language": "python",
   "name": "python3"
  },
  "language_info": {
   "codemirror_mode": {
    "name": "ipython",
    "version": 3
   },
   "file_extension": ".py",
   "mimetype": "text/x-python",
   "name": "python",
   "nbconvert_exporter": "python",
   "pygments_lexer": "ipython3",
   "version": "3.9.6"
  }
 },
 "nbformat": 4,
 "nbformat_minor": 5
}
