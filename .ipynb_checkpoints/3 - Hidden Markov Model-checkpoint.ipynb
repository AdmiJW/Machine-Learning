{
 "cells": [
  {
   "cell_type": "markdown",
   "id": "2a56e701",
   "metadata": {},
   "source": [
    "<br>\n",
    "\n",
    "---\n",
    "\n",
    "# 3 - Hidden Markov Model\n",
    "\n",
    "---\n",
    "<br>\n",
    "\n",
    "Instead of learning from data, Hidden Markov model is a probabilistic based machine learning model. It consist of 3 main parts:\n",
    "- State (Hidden from us)\n",
    "\n",
    "- Observation Distribution\n",
    "\n",
    "- Transition Distribution\n",
    "\n",
    "Essentially, the whole model is like a finite state machine, consisting of a finite set of states, and in each of those states, has a set of probability which predicts the next state (Which state will it transition to). However, these states are hidden away from us. Instead, each state will have different probabilities that certain observations will occur. Let's see example:\n",
    "\n",
    "<br/>\n",
    "\n",
    "---\n",
    "\n",
    "Say we develop a simple weather predicting machine, which will tell us the __temperature__ of the future.\n",
    "\n",
    "The available states __(HIDDEN)__:\n",
    "- Cold Day\n",
    "- Hot Day\n",
    "\n",
    "<br>\n",
    "\n",
    "Initially, which weather we start off with, is determined by some initial probabilities:\n",
    "- Cold Day - 0.8\n",
    "\n",
    "- Hot Day - 0.2\n",
    "\n",
    "<br>\n",
    "\n",
    "In each state, it has probabilities to determine which state will it go to next:\n",
    "- From Cold Day: 0.7 to Cold day, 0.3 to Hot day\n",
    "\n",
    "- From Hot Day: 0.2 to Cold Day, 0.8 to Hot day\n",
    "\n",
    "<br>\n",
    "\n",
    "Finally, the temperature is normally distributed. Say:\n",
    "- On cold day, temperature is normally distributed with mean of 0C and standard deviation of 5C\n",
    "\n",
    "- On Hot day, temperature is normally distributed with mean of 15C and standard deviation of 10C\n",
    "\n",
    "<br>\n",
    "\n",
    "---\n",
    "\n",
    "You know what? Hidden Markov Model is perfect fit for this situation! We don't need to know if it is Hot day or Cold day, just the temperature. The states are hidden away from us, but under the hood, state transition is still happening!"
   ]
  },
  {
   "cell_type": "markdown",
   "id": "20126be9",
   "metadata": {},
   "source": [
    "<br>\n",
    "\n",
    "---\n",
    "\n",
    "## 1.0 - Importing Modules\n",
    "\n",
    "---\n",
    "<br>\n",
    "\n",
    "If you don't have `tensorflow_probability` yet, `pip install` it"
   ]
  },
  {
   "cell_type": "code",
   "execution_count": 2,
   "id": "59ab3804",
   "metadata": {},
   "outputs": [
    {
     "name": "stdout",
     "output_type": "stream",
     "text": [
      "Microsoft Windows [Version 10.0.19042.1110]\r\n",
      "(c) Microsoft Corporation. All rights reserved.\r\n",
      "\r\n",
      "(venv) D:\\My Desktop\\Programming\\Projects\\MachineLearning>pip install tensorflow_probability\n",
      "Collecting tensorflow_probability\r\n",
      "  Downloading tensorflow_probability-0.13.0-py2.py3-none-any.whl (5.4 MB)\r\n",
      "Collecting dm-tree\r\n",
      "  Downloading dm_tree-0.1.6-cp39-cp39-win_amd64.whl (74 kB)\r\n",
      "Requirement already satisfied: decorator in d:\\my desktop\\programming\\projects\\machinelearning\\venv\\lib\\site-packages (from tensorflow_probability) (5.0.9)\r\n",
      "Requirement already satisfied: six>=1.10.0 in d:\\my desktop\\programming\\projects\\machinelearning\\venv\\lib\\site-packages (from tensorflow_probability) (1.15.0)\r\n",
      "Requirement already satisfied: numpy>=1.13.3 in d:\\my desktop\\programming\\projects\\machinelearning\\venv\\lib\\site-packages (from tensorflow_probability) (1.19.5)\r\n",
      "Requirement already satisfied: gast>=0.3.2 in d:\\my desktop\\programming\\projects\\machinelearning\\venv\\lib\\site-packages (from tensorflow_probability) (0.4.0)\r\n",
      "Collecting cloudpickle>=1.3\r\n",
      "  Downloading cloudpickle-1.6.0-py3-none-any.whl (23 kB)\r\n",
      "Installing collected packages: dm-tree, cloudpickle, tensorflow-probability\r\n",
      "Successfully installed cloudpickle-1.6.0 dm-tree-0.1.6 tensorflow-probability-0.13.0\r\n",
      "\r\n",
      "(venv) D:\\My Desktop\\Programming\\Projects\\MachineLearning>"
     ]
    }
   ],
   "source": [
    "%%cmd\n",
    "pip install tensorflow_probability"
   ]
  },
  {
   "cell_type": "code",
   "execution_count": 3,
   "id": "55d817ef",
   "metadata": {},
   "outputs": [],
   "source": [
    "import tensorflow_probability as tfp      # Required for probabilistic works\n",
    "import tensorflow as tf\n",
    "\n",
    "tfd = tfp.distributions        # Module for distributions like normal distribution"
   ]
  },
  {
   "cell_type": "markdown",
   "id": "0e49ed17",
   "metadata": {},
   "source": [
    "<br>\n",
    "\n",
    "---\n",
    "\n",
    "## 2.0 - Setup Distributions\n",
    "\n",
    "---\n",
    "<br>"
   ]
  },
  {
   "cell_type": "code",
   "execution_count": 4,
   "id": "a06aebd4",
   "metadata": {},
   "outputs": [],
   "source": [
    "###########################################\n",
    "# Index 0 is Cold Day, Index 1 is Hot Day\n",
    "###########################################\n",
    "\n",
    "# 0.8 To Start with Cold Day, 0.2 to start with Hot Day\n",
    "initial_distribution = tfd.Categorical(probs=[0.8, 0.2])    \n",
    "\n",
    "# For State 1 (Cold), 0.7 to stay cold next day, 0.3 to go Hot\n",
    "# For State 2 (Hot), 0.2 to go Cold, 0.8 to stay Hot\n",
    "transition_distribution = tfd.Categorical(probs=[[0.7, 0.3], [0.2, 0.8] ] )\n",
    "\n",
    "# loc is mean of normal distribution, Cold's mean is 0C, Hot's mean is 15C\n",
    "# scale is standard deviation. Cold's std is 5C, Hot's std is 10C\n",
    "observation_distribution = tfd.Normal(loc=[0., 15.], scale=[5., 10.])"
   ]
  },
  {
   "cell_type": "markdown",
   "id": "c4e9baa5",
   "metadata": {},
   "source": [
    "<br>\n",
    "\n",
    "---\n",
    "\n",
    "## 3.0 - Building Model\n",
    "\n",
    "---\n",
    "<br>"
   ]
  },
  {
   "cell_type": "code",
   "execution_count": 5,
   "id": "fbb1d9ba",
   "metadata": {},
   "outputs": [],
   "source": [
    "model = tfd.HiddenMarkovModel(\n",
    "    initial_distribution = initial_distribution,\n",
    "    transition_distribution = transition_distribution,\n",
    "    observation_distribution = observation_distribution,\n",
    "    num_steps=7            # Num steps is how many state transitions should occur, 7 means to predict 7 days\n",
    ")"
   ]
  },
  {
   "cell_type": "markdown",
   "id": "3d46b365",
   "metadata": {},
   "source": [
    "<br>\n",
    "\n",
    "---\n",
    "\n",
    "## 4.0 - Prediction\n",
    "\n",
    "---\n",
    "<br>"
   ]
  },
  {
   "cell_type": "code",
   "execution_count": 6,
   "id": "514a7314",
   "metadata": {
    "scrolled": true
   },
   "outputs": [
    {
     "name": "stdout",
     "output_type": "stream",
     "text": [
      "[2.9999998 5.9999995 7.4999995 8.25      8.625     8.812501  8.90625  ]\n"
     ]
    }
   ],
   "source": [
    "# Call mean(), and the prediction value of 7 days is returned\n",
    "mean = model.mean()\n",
    "\n",
    "# It is a tensor. So we have to create a Session to get the values\n",
    "with tf.compat.v1.Session() as sess:\n",
    "  print(mean.numpy() )"
   ]
  }
 ],
 "metadata": {
  "kernelspec": {
   "display_name": "Python 3 (ipykernel)",
   "language": "python",
   "name": "python3"
  },
  "language_info": {
   "codemirror_mode": {
    "name": "ipython",
    "version": 3
   },
   "file_extension": ".py",
   "mimetype": "text/x-python",
   "name": "python",
   "nbconvert_exporter": "python",
   "pygments_lexer": "ipython3",
   "version": "3.9.6"
  }
 },
 "nbformat": 4,
 "nbformat_minor": 5
}
